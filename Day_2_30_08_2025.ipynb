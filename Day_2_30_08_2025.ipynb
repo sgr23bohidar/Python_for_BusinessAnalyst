{
  "nbformat": 4,
  "nbformat_minor": 0,
  "metadata": {
    "colab": {
      "provenance": []
    },
    "kernelspec": {
      "name": "python3",
      "display_name": "Python 3"
    },
    "language_info": {
      "name": "python"
    }
  },
  "cells": [
    {
      "cell_type": "markdown",
      "source": [
        "# Data Types in Python\n",
        "![datatypes.jpeg](data:image/jpeg;base64,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)"
      ],
      "metadata": {
        "id": "H7-1MIIT7J1k"
      }
    },
    {
      "cell_type": "markdown",
      "source": [
        "# Conditional Statements in Python"
      ],
      "metadata": {
        "id": "sXUtcuO4XcJV"
      }
    },
    {
      "cell_type": "markdown",
      "source": [
        "# 1. 'if' Statement"
      ],
      "metadata": {
        "id": "9AovmN39YrLN"
      }
    },
    {
      "cell_type": "code",
      "source": [
        "# check if age is greater than or equal to 18\n",
        "age=int(input(\"Enter Age\"))\n",
        "if age>=18:\n",
        "  print(\"Eligible for Vote\")\n"
      ],
      "metadata": {
        "id": "5i53SYgjYOcF",
        "colab": {
          "base_uri": "https://localhost:8080/"
        },
        "outputId": "aa45be23-b941-427b-9a94-1406ffd48f3b"
      },
      "execution_count": null,
      "outputs": [
        {
          "output_type": "stream",
          "name": "stdout",
          "text": [
            "Enter Age23\n",
            "Eligible for Vote\n"
          ]
        }
      ]
    },
    {
      "cell_type": "markdown",
      "source": [
        "# 'if-else' Conditional Statement"
      ],
      "metadata": {
        "id": "ER4pusdsY-f5"
      }
    },
    {
      "cell_type": "code",
      "source": [
        "age=int(input(\"Enter Age\"))\n",
        "if age>=18:\n",
        "  print(\"Eligible to Vote\")\n",
        "else:\n",
        "  print(\"Not Eligible to Vote\")"
      ],
      "metadata": {
        "id": "lcxCr2Bl7IDc"
      },
      "execution_count": null,
      "outputs": []
    },
    {
      "cell_type": "code",
      "source": [
        " # compare between two numbers\n",
        "a=int(input(\"Enter any A Value\"))\n",
        "b=int(input(\"Enter any B Value\"))\n",
        "if a>b:\n",
        "  print(a,\" is greater than \", b)\n",
        "else:\n",
        "  print(b,\" is greater than \", a)\n",
        "\n"
      ],
      "metadata": {
        "id": "0VpPpfBSihTF",
        "colab": {
          "base_uri": "https://localhost:8080/"
        },
        "outputId": "415e9c70-3133-46da-ac89-47adb0ebad7a"
      },
      "execution_count": null,
      "outputs": [
        {
          "output_type": "stream",
          "name": "stdout",
          "text": [
            "Enter any A Value23\n",
            "Enter any B Value24\n",
            "24  is greater than  23\n"
          ]
        }
      ]
    },
    {
      "cell_type": "markdown",
      "source": [
        "#'if-elif-else'"
      ],
      "metadata": {
        "id": "QovM1ZWpi5vM"
      }
    },
    {
      "cell_type": "code",
      "source": [
        "a=int(input(\"Enter any A Value\"))\n",
        "b=int(input(\"Enter any B Value\"))\n",
        "if a>b:\n",
        "  print(a,\" is greater than \", b)\n",
        "elif b>a:\n",
        "  print(b,\" is greater than \", a)\n",
        "else:\n",
        "  print(\"Both are equal\")"
      ],
      "metadata": {
        "id": "6HnpNKzb9okW"
      },
      "execution_count": null,
      "outputs": []
    },
    {
      "cell_type": "code",
      "source": [
        "# Assign grades based on scores >80 A grade, 60 and < 80, >=50 <60 then C, >=40  Pass  else Fails\n",
        "scores=int(input(\"Enter your scores(0-100): \"))\n",
        "if scores>=80:\n",
        "  print(\" A grade\")\n",
        "elif scores>=60 and scores <80:\n",
        "  print(\" B grade\")\n",
        "elif scores>=50 and scores <60:\n",
        "  print(\" C grades\")\n",
        "elif scores>=40 and scores<50:\n",
        "  print(\"pass\")\n",
        "else:\n",
        "  print(\"Fails\")\n",
        "\n"
      ],
      "metadata": {
        "id": "Jti3pz42jHDx"
      },
      "execution_count": null,
      "outputs": []
    },
    {
      "cell_type": "markdown",
      "source": [
        "# Nested 'if-else'"
      ],
      "metadata": {
        "id": "e_usLRvEjrr1"
      }
    },
    {
      "cell_type": "code",
      "source": [
        "# Check whether number is even/odd\n",
        "Number=int(input(\"Enter the Number: \"))\n",
        "if Number%2 ==1: #num%2!=0\n",
        "  print(\"ODD Number\")\n",
        "else:\n",
        "  print(\"EVEN Number\")\n",
        "\n"
      ],
      "metadata": {
        "id": "aFhYOlHJjwXL"
      },
      "execution_count": null,
      "outputs": []
    },
    {
      "cell_type": "code",
      "source": [
        "# Check whether the number is positive/Negative\n",
        "num=int(input(\"Enter any Number: \"))\n",
        "if num>0:\n",
        "  print(\"Positive number\")\n",
        "else:\n",
        "  print(\"Negative number\")"
      ],
      "metadata": {
        "id": "UggtzkaTCdrv"
      },
      "execution_count": null,
      "outputs": []
    },
    {
      "cell_type": "code",
      "source": [
        "# Check whether number is positive/negative and even/odd\n",
        "num=int(input(\"Enter any Number: \"))\n",
        "if num>0:\n",
        "  if num%2 ==0:\n",
        "    print(\"Positive Even Number\")\n",
        "  else:\n",
        "    print(\"Positive Odd Number\")\n",
        "else:\n",
        "  if num%2 ==0:\n",
        "    print(\"Negative Even Number\")\n",
        "  else:\n",
        "    print(\"Negative Odd Number\")"
      ],
      "metadata": {
        "id": "nlt_2SoDxlHK"
      },
      "execution_count": null,
      "outputs": []
    },
    {
      "cell_type": "markdown",
      "source": [
        "# Loops in Python\n",
        "Loops enable you to perform repetitive tasks efficiently without writing redundant code. They iterate over a sequence (like a list, tuple, string, or range) or execute a block of code as long as a specific condition is met.\n",
        "Types of Loops in Python\n",
        "1. While loop\n",
        "2. For loop\n",
        "3. Nested loop\n"
      ],
      "metadata": {
        "id": "ubn1W9uzdB8e"
      }
    },
    {
      "cell_type": "markdown",
      "source": [
        "# While Loop :\n",
        " The while loop repeatedly executes a block of code as long as a given condition remains True. It checks the condition before each iteration.<br>\n",
        "Syntax: <br>\n",
        " initial value<br>\n",
        " while condition:<br>\n",
        "             &nbsp;  &nbsp;  &nbsp; &nbsp;   Code block to execute Example:\n"
      ],
      "metadata": {
        "id": "XCWL84DFdYIK"
      }
    },
    {
      "cell_type": "code",
      "source": [
        "#while True:\n",
        "  #print(\"Hello\")"
      ],
      "metadata": {
        "id": "QB3Y1BUSHYcC"
      },
      "execution_count": null,
      "outputs": []
    },
    {
      "cell_type": "code",
      "source": [
        "# Print numbers from 1 to 10 start=1 end 10\n",
        "x=1\n",
        "while x <= 10:\n",
        "  print(x)\n",
        "  x=x+1"
      ],
      "metadata": {
        "id": "DIZuBSU2dFXF"
      },
      "execution_count": null,
      "outputs": []
    },
    {
      "cell_type": "code",
      "source": [
        "# print 10 to 1 initial value=10 end = 1\n",
        "x=10\n",
        "while x >= 1:\n",
        "  print(x)\n",
        "  x=x-1\n"
      ],
      "metadata": {
        "id": "tmae8Aj5dFzl"
      },
      "execution_count": null,
      "outputs": []
    },
    {
      "cell_type": "code",
      "source": [
        "# Write a program to print even numbers in range 1 to 50 while and if\n",
        "n=1\n",
        "while n <=50:\n",
        "  if n%2==0:\n",
        "    print(n)\n",
        "  n=n+1"
      ],
      "metadata": {
        "id": "JrpAqwx9J7gb"
      },
      "execution_count": null,
      "outputs": []
    },
    {
      "cell_type": "markdown",
      "source": [
        "# For Loop\n",
        "The for loop in Python is used to iterate over a sequence (such as a list, tuple, dictionary, set, or string) and execute a block of code for each element in that sequence. <br>\n",
        "Syntax: <br>\n",
        "for variable in sequence:<br>\n",
        "      &nbsp; &nbsp; &nbsp; &nbsp; Code block to execute\n"
      ],
      "metadata": {
        "id": "yfw7M266d7Rt"
      }
    },
    {
      "cell_type": "code",
      "source": [
        "list(range(7))\n"
      ],
      "metadata": {
        "id": "Vl6NW7mnNCuG",
        "colab": {
          "base_uri": "https://localhost:8080/"
        },
        "outputId": "b7ae11d5-738e-4c9f-c53f-9ac2fba79fc6"
      },
      "execution_count": null,
      "outputs": [
        {
          "output_type": "execute_result",
          "data": {
            "text/plain": [
              "[0, 1, 2, 3, 4, 5, 6]"
            ]
          },
          "metadata": {},
          "execution_count": 3
        }
      ]
    },
    {
      "cell_type": "code",
      "source": [
        "list(range(5,10))"
      ],
      "metadata": {
        "id": "SZ9ZODQMNSss",
        "colab": {
          "base_uri": "https://localhost:8080/"
        },
        "outputId": "6dbb280c-bdc1-4c80-eae5-8e8214bfe304"
      },
      "execution_count": null,
      "outputs": [
        {
          "output_type": "execute_result",
          "data": {
            "text/plain": [
              "[5, 6, 7, 8, 9]"
            ]
          },
          "metadata": {},
          "execution_count": 4
        }
      ]
    },
    {
      "cell_type": "code",
      "source": [
        "list(range(1,10,2))"
      ],
      "metadata": {
        "id": "sUvurid5NUl9",
        "colab": {
          "base_uri": "https://localhost:8080/"
        },
        "outputId": "9488c707-b3c0-42be-99ac-4b2c8f0b365f"
      },
      "execution_count": null,
      "outputs": [
        {
          "output_type": "execute_result",
          "data": {
            "text/plain": [
              "[1, 3, 5, 7, 9]"
            ]
          },
          "metadata": {},
          "execution_count": 5
        }
      ]
    },
    {
      "cell_type": "code",
      "source": [
        "# print numbers in range 1 to 10\n",
        "for x in range(1,11):\n",
        "  print(x)"
      ],
      "metadata": {
        "id": "9992Zj8sdFlP",
        "colab": {
          "base_uri": "https://localhost:8080/"
        },
        "outputId": "6cf1c454-afc8-4d6c-8e30-4e31358149fb"
      },
      "execution_count": null,
      "outputs": [
        {
          "output_type": "stream",
          "name": "stdout",
          "text": [
            "1\n",
            "2\n",
            "3\n",
            "4\n",
            "5\n",
            "6\n",
            "7\n",
            "8\n",
            "9\n",
            "10\n"
          ]
        }
      ]
    },
    {
      "cell_type": "code",
      "source": [
        "# print numbers in range 1 to 10\n",
        "\n"
      ],
      "metadata": {
        "id": "w8oq5g2-eOVm"
      },
      "execution_count": null,
      "outputs": []
    },
    {
      "cell_type": "code",
      "source": [
        "# print alternate number in range 4 to including 16 # 4,6,8\n",
        "for i in range(4,17,2):\n",
        "  print(i)\n",
        "\n"
      ],
      "metadata": {
        "id": "0ISKkMM6eRVs",
        "colab": {
          "base_uri": "https://localhost:8080/"
        },
        "outputId": "efdc6470-3b27-4d00-8d43-20da95b2e6cb"
      },
      "execution_count": null,
      "outputs": [
        {
          "output_type": "stream",
          "name": "stdout",
          "text": [
            "4\n",
            "6\n",
            "8\n",
            "10\n",
            "12\n",
            "14\n",
            "16\n"
          ]
        }
      ]
    },
    {
      "cell_type": "code",
      "source": [
        "# string, list,tuple\n",
        "#String\n",
        "country=\"INDIA\"\n",
        "for i in country:\n",
        "  print(i)\n"
      ],
      "metadata": {
        "id": "aEFRyEd4eWhV",
        "colab": {
          "base_uri": "https://localhost:8080/"
        },
        "outputId": "d570ba0f-eaa3-4710-fdde-ee56a3d59f57"
      },
      "execution_count": null,
      "outputs": [
        {
          "output_type": "stream",
          "name": "stdout",
          "text": [
            "I\n",
            "N\n",
            "D\n",
            "I\n",
            "A\n"
          ]
        }
      ]
    },
    {
      "cell_type": "code",
      "source": [
        "\n"
      ],
      "metadata": {
        "id": "ZqzgQAaM3_Jc"
      },
      "execution_count": null,
      "outputs": []
    },
    {
      "cell_type": "markdown",
      "source": [
        "# Loop Control Statements\n",
        "• pass statement <br>\n",
        "• break Statement <br>\n",
        "• continue Statement <br>\n"
      ],
      "metadata": {
        "id": "KNd2d-DNeOIl"
      }
    },
    {
      "cell_type": "markdown",
      "source": [
        "\n",
        "# pass statement\n",
        "\n",
        "When x > 5, the pass statement is executed, meaning nothing happens.<br>\n",
        "If x <= 5, the else block runs, printing \"x is 5 or less\".<br>\n",
        "pass allows the code to compile and run without errors, even though the if block is currently empty.\n",
        "\n",
        "\n"
      ],
      "metadata": {
        "id": "BCHTAbi5eODw"
      }
    },
    {
      "cell_type": "code",
      "source": [
        "x=5\n",
        "if x>20:\n",
        "  pass\n",
        "\n",
        "\n"
      ],
      "metadata": {
        "id": "s4Jb2k__esXo"
      },
      "execution_count": null,
      "outputs": []
    },
    {
      "cell_type": "markdown",
      "source": [
        "# break statement"
      ],
      "metadata": {
        "id": "Ri1dU4tGfaGT"
      }
    },
    {
      "cell_type": "code",
      "source": [
        "x=5\n",
        "while x<10: #5,6,7\n",
        "  if x==7:\n",
        "    break\n",
        "  print(x)\n",
        "  x=x+1 #x=6\n",
        "\n",
        "\n",
        "\n"
      ],
      "metadata": {
        "id": "1bbfWMLrfac7"
      },
      "execution_count": null,
      "outputs": []
    },
    {
      "cell_type": "markdown",
      "source": [
        "# continue statement"
      ],
      "metadata": {
        "id": "L73FpUiYfjiw"
      }
    },
    {
      "cell_type": "code",
      "source": [
        "x=5\n",
        "while x<10:\n",
        "  print(x)\n",
        "  if x==7:\n",
        "    continue\n",
        "    x=x+1\n"
      ],
      "metadata": {
        "id": "3DxuvkD1fjvW"
      },
      "execution_count": null,
      "outputs": []
    },
    {
      "cell_type": "markdown",
      "source": [
        "# List in Python\n",
        "• What is List <br>\n",
        ":A list in Python is a collection of items (elements) that are ordered, changeable\n",
        "(mutable), and allow duplicate elements.\n",
        "Lists are one of the most versatile data structures in Python and are used to store\n",
        "multiple items in a single variable.<br>\n"
      ],
      "metadata": {
        "id": "noCZGhmZkQPz"
      }
    },
    {
      "cell_type": "markdown",
      "source": [
        "• Create Lists <br>\n",
        "• Access List: Indexing & Slicing <br>\n",
        "• Modify List <br>\n",
        "• List Methods <br>\n",
        "• Join Lists <br>\n",
        "• List Comprehensions <br>\n"
      ],
      "metadata": {
        "id": "8VtvedddlyqI"
      }
    },
    {
      "cell_type": "code",
      "source": [
        "# variable_name= [1,2,3,4,\"Pune\",52.23],"
      ],
      "metadata": {
        "id": "uY_r7Y9AnakP"
      },
      "execution_count": null,
      "outputs": []
    },
    {
      "cell_type": "code",
      "source": [
        "#Empty List\n",
        "v=[]\n",
        "type(v)\n",
        "\n",
        "#Type\n",
        "list(\"CoachX\")\n",
        "\n",
        "elist=list()\n",
        "type(elist)"
      ],
      "metadata": {
        "id": "yEUfS2UzTj9W",
        "colab": {
          "base_uri": "https://localhost:8080/"
        },
        "outputId": "5f33dd14-20d8-4597-f583-7cd667dd5368"
      },
      "execution_count": null,
      "outputs": [
        {
          "output_type": "execute_result",
          "data": {
            "text/plain": [
              "list"
            ]
          },
          "metadata": {},
          "execution_count": 12
        }
      ]
    },
    {
      "cell_type": "markdown",
      "source": [
        ",# List Creation"
      ],
      "metadata": {
        "id": "w7hRtpNE7r5u"
      }
    },
    {
      "cell_type": "code",
      "source": [
        "# Empty List\n",
        "list1=list()\n",
        "print(list1)\n",
        "int_list = [1, 2, 3, 4, 5]\n",
        "print(int_list)\n",
        "float_list = [1.1, 2.5, 3.14, 4.0, 5.9]\n",
        "print(float_list)\n",
        "string_list = [\"apple\", \"banana\", \"cherry\", \"date\"]\n",
        "print(string_list)\n",
        "mixed_list = [1, \"hello\", 3.5, True]\n",
        "print(mixed_list)"
      ],
      "metadata": {
        "id": "Lk0Rgbssl5xn",
        "colab": {
          "base_uri": "https://localhost:8080/"
        },
        "outputId": "faed90b1-1988-4862-c330-593cf0d3d443"
      },
      "execution_count": null,
      "outputs": [
        {
          "output_type": "stream",
          "name": "stdout",
          "text": [
            "[]\n",
            "[1, 2, 3, 4, 5]\n",
            "[1.1, 2.5, 3.14, 4.0, 5.9]\n",
            "['apple', 'banana', 'cherry', 'date']\n",
            "[1, 'hello', 3.5, True]\n"
          ]
        }
      ]
    },
    {
      "cell_type": "code",
      "source": [
        "# Ordered Datatype\n",
        "# positional value index value\n"
      ],
      "metadata": {
        "id": "Kkj7rx7mn87B"
      },
      "execution_count": null,
      "outputs": []
    },
    {
      "cell_type": "markdown",
      "source": [
        "# Accessing List Elements"
      ],
      "metadata": {
        "id": "6lGMRmwh7mku"
      }
    },
    {
      "cell_type": "code",
      "source": [
        "\n",
        "fruits = [\"apple\", \"orange\", \"cherry\", \"apple\", \"mango\"]\n",
        " # Access first element\n",
        "print(fruits[0])\n",
        "# Access third element\n",
        "print(fruits[2])\n",
        "# using negative indexing last element\n",
        "print(fruits[-1])\n",
        "# Access last element using negative index\n",
        "print(fruits[4])\n",
        "# access 'orange' using negative index\n",
        "print(fruits[-4])\n"
      ],
      "metadata": {
        "id": "LPcEJP8E6Dmx"
      },
      "execution_count": null,
      "outputs": []
    },
    {
      "cell_type": "code",
      "source": [],
      "metadata": {
        "id": "1iCHByscroQ9"
      },
      "execution_count": null,
      "outputs": []
    },
    {
      "cell_type": "markdown",
      "source": [
        "# List Slicing:"
      ],
      "metadata": {
        "id": "YQXA5UPu7jRW"
      }
    },
    {
      "cell_type": "code",
      "source": [
        "\n",
        "\"\"\"\n",
        "list_name[start:stop:step]\n",
        "list_name[start:stop] [:3] n-1\n",
        "\"\"\"\n",
        "numbers = [10, 20, 30, 40, 50, 60]\n",
        "# Slice from index 1 to 3 20,30,40\n",
        "print(numbers[1:4])\n",
        "\n",
        "# Output: [20, 30, 40]\n",
        "# Slice from start to index 2 # 10,20,30\n",
        "print(numbers[:3])\n",
        "print(numbers[:])\n",
        "print(numbers[2:])\n",
        "# Slice all alternate elements\n",
        "print(numbers[:])\n",
        "\n",
        "print(numbers[::2])\n",
        "\n",
        "# Slice with negative indices\n",
        "print(numbers[-3:])\n",
        "#40,50,60\n",
        "print(numbers[-1:])\n",
        "# Reverse list\n",
        "print(numbers[::-1])\n",
        "\n",
        "#60,50,40\n",
        "print(numbers[-1:-4:-1])"
      ],
      "metadata": {
        "id": "u76wHBz96DqL",
        "colab": {
          "base_uri": "https://localhost:8080/"
        },
        "outputId": "231010bd-acb4-4487-bf43-53cc303741e4"
      },
      "execution_count": null,
      "outputs": [
        {
          "output_type": "stream",
          "name": "stdout",
          "text": [
            "[20, 30, 40]\n",
            "[10, 20, 30]\n",
            "[10, 20, 30, 40, 50, 60]\n",
            "[30, 40, 50, 60]\n",
            "[10, 20, 30, 40, 50, 60]\n",
            "[10, 30, 50]\n",
            "[40, 50, 60]\n",
            "[60]\n",
            "[60, 50, 40, 30, 20, 10]\n",
            "[60, 50, 40]\n"
          ]
        }
      ]
    },
    {
      "cell_type": "markdown",
      "source": [
        "# Modifying List  "
      ],
      "metadata": {
        "id": "i_nzyrQP763R"
      }
    },
    {
      "cell_type": "code",
      "source": [
        "fruits = [\"apple\", \"banana\", \"cherry\"] # mutable(changeable)\n",
        "# Changing an element add blueberry at 1st index\n",
        "print(fruits)\n",
        "fruits[1] ='blueberry'\n",
        "print(fruits)\n",
        "# Output: ['apple', 'blueberry', 'cherry']\n",
        "# Adding an element using append function add mango to the fruits list\n",
        "# append(): adding element to the end of list\n",
        "fruits.append('mango')\n",
        "\n",
        "# Output: ['apple', 'blueberry', 'cherry’, 'mango']\n",
        "print(fruits)\n",
        "# Removing an element\n",
        "# pop removes last element\n",
        "fruits.pop()\n",
        "print(fruits)\n",
        "# Output: ['apple', 'blueberry', 'mango']\n",
        "fruits.remove('apple')\n",
        "print(fruits)\n",
        "\n",
        "fruits.insert(1,'kiwi')\n",
        "print(fruits)"
      ],
      "metadata": {
        "id": "8zwK9yPc6Dsk",
        "colab": {
          "base_uri": "https://localhost:8080/"
        },
        "outputId": "406ae599-3245-4644-e0c3-f4e43b0055bd"
      },
      "execution_count": null,
      "outputs": [
        {
          "output_type": "stream",
          "name": "stdout",
          "text": [
            "['apple', 'banana', 'cherry']\n",
            "['apple', 'blueberry', 'cherry']\n",
            "['apple', 'blueberry', 'cherry', 'mango']\n",
            "['apple', 'blueberry', 'cherry']\n",
            "['blueberry', 'cherry']\n",
            "['blueberry', 'kiwi', 'cherry']\n"
          ]
        }
      ]
    },
    {
      "cell_type": "code",
      "source": [
        "fruits = [\"apple\", \"orange\", \"cherry\", \"apple\", \"mango\"]\n",
        "print(fruits)\n",
        "fruits.index('cherry')"
      ],
      "metadata": {
        "id": "ORYybTPjB9Y7",
        "colab": {
          "base_uri": "https://localhost:8080/"
        },
        "outputId": "de5ad071-aa03-4713-904d-7522aa5c12e2"
      },
      "execution_count": null,
      "outputs": [
        {
          "output_type": "stream",
          "name": "stdout",
          "text": [
            "['apple', 'orange', 'cherry', 'apple', 'mango']\n"
          ]
        },
        {
          "output_type": "execute_result",
          "data": {
            "text/plain": [
              "2"
            ]
          },
          "metadata": {},
          "execution_count": 16
        }
      ]
    },
    {
      "cell_type": "code",
      "source": [
        "# count,reverse and sort functions\n",
        "fruits = [\"apple\", \"orange\", \"cherry\", \"apple\", \"mango\"]\n",
        "\n",
        "print(fruits.count('apple'))\n",
        "\n",
        "fruits.sort(reverse=True)\n",
        "print(fruits)\n",
        "# reverse\n",
        "fruits.reverse()\n",
        "print(fruits)\n"
      ],
      "metadata": {
        "id": "_FORPM4v6DvQ",
        "colab": {
          "base_uri": "https://localhost:8080/"
        },
        "outputId": "c920a04d-6bd8-416d-df55-af985e3f84b3"
      },
      "execution_count": null,
      "outputs": [
        {
          "output_type": "stream",
          "name": "stdout",
          "text": [
            "2\n",
            "['orange', 'mango', 'cherry', 'apple', 'apple']\n",
            "['apple', 'apple', 'cherry', 'mango', 'orange']\n"
          ]
        }
      ]
    },
    {
      "cell_type": "markdown",
      "source": [
        "# List Methods <br>\n"
      ],
      "metadata": {
        "id": "kdtRFtAP8ilO"
      }
    },
    {
      "cell_type": "code",
      "source": [
        "\"\"\"\n",
        "Method\t       Description                                         \tExample\n",
        "append(x)\t    Adds item x to the end of the list\t                   list.append(10)\n",
        "insert(i, x) \tInserts item x at position i\t                         list.insert(1, 20)\n",
        "remove(x)    \tRemoves the first occurrence of x\t                     list.remove(3)\n",
        "pop([i])    \tRemoves and returns item at index i,\n",
        "              or last item if i not given\t                           list.pop() or list.pop(2)\n",
        "clear()\t       Removes all items from the list\t                     list.clear()\n",
        "index(x)\t     Returns the index of the first occurrence of x\t       list.index(5)\n",
        "count(x)\t    Returns number of times x appears in the list\t         list.count(2)\n",
        "sort()\t      Sorts the list in ascending order (modifies in place)\t list.sort()\n",
        "sort(reverse=True)\tSorts the list in descending order\t             list.sort(reverse=True)\n",
        "sorted(list)\t  Returns a new sorted list                            sorted(list)\n",
        "reverse()\t     Reverses the list in-place\t                           list.reverse()\n",
        "\n",
        "\"\"\""
      ],
      "metadata": {
        "id": "nBgEeoJf6Dxg"
      },
      "execution_count": null,
      "outputs": []
    },
    {
      "cell_type": "markdown",
      "source": [
        "# Join Lists"
      ],
      "metadata": {
        "id": "SJEaCBqI9iXs"
      }
    },
    {
      "cell_type": "code",
      "source": [
        "'India'+\" \"+'country'"
      ],
      "metadata": {
        "id": "aUlakyVAFDnL"
      },
      "execution_count": null,
      "outputs": []
    },
    {
      "cell_type": "code",
      "source": [
        "list1 = [1, 2] # int\n",
        "list2 = [\"a\", \"b\"] # string\n",
        "# Using the + operator concatenate\n",
        "print(list1+list2)\n",
        "print(list1,list2)\n",
        " # using append method\n",
        "list1.append(list2)\n",
        "print(list1) #Output : [1, 2, ['a', 'b']]\n",
        "\n",
        "\n",
        "# using extend method\n",
        "list1 = [1, 2] # int\n",
        "list2 = [\"a\", \"b\"] # string\n",
        "list1.extend(list2)\n",
        "print(list1) #Output : [1, 2, 'a', 'b']\n",
        "\n",
        "# add elements from one list to another list\n",
        "\n"
      ],
      "metadata": {
        "id": "JVQDeX456Dz5",
        "colab": {
          "base_uri": "https://localhost:8080/"
        },
        "outputId": "49784365-8e88-4ea4-ce39-543015ec4c5f"
      },
      "execution_count": null,
      "outputs": [
        {
          "output_type": "stream",
          "name": "stdout",
          "text": [
            "[1, 2, 'a', 'b']\n",
            "[1, 2] ['a', 'b']\n",
            "[1, 2, ['a', 'b']]\n",
            "[1, 2, 'a', 'b']\n"
          ]
        }
      ]
    },
    {
      "cell_type": "code",
      "source": [
        "list(range(5,10))"
      ],
      "metadata": {
        "id": "s4joM2U7HH-1"
      },
      "execution_count": null,
      "outputs": []
    },
    {
      "cell_type": "code",
      "source": [
        "for i in range(5,10):\n",
        "  print(i)"
      ],
      "metadata": {
        "id": "GpRrqUaTHYhA"
      },
      "execution_count": null,
      "outputs": []
    },
    {
      "cell_type": "code",
      "source": [
        "# create a list consisting of even 1 to 10\n",
        "evenlist=[]\n",
        "for i in range(1,11):\n",
        "  if i%2==0:\n",
        "    evenlist.append(i)\n",
        "\n",
        "print(evenlist)\n"
      ],
      "metadata": {
        "id": "wT9AlHbCxaTs",
        "colab": {
          "base_uri": "https://localhost:8080/"
        },
        "outputId": "afd08a21-b156-4bf9-a67e-7d0f4cfaecea"
      },
      "execution_count": null,
      "outputs": [
        {
          "output_type": "stream",
          "name": "stdout",
          "text": [
            "[2, 4, 6, 8, 10]\n"
          ]
        }
      ]
    },
    {
      "cell_type": "code",
      "source": [
        "# create a list consisting of even 1 to 10\n",
        "elist=[]\n",
        "for i in range(0,11,2):\n",
        "  elist.append(i)\n",
        "\n",
        "elist"
      ],
      "metadata": {
        "id": "8_WDucHZIrcF",
        "colab": {
          "base_uri": "https://localhost:8080/"
        },
        "outputId": "942ddf17-5de7-435b-8019-8979068c426e"
      },
      "execution_count": null,
      "outputs": [
        {
          "output_type": "execute_result",
          "data": {
            "text/plain": [
              "[0, 2, 4, 6, 8, 10]"
            ]
          },
          "metadata": {},
          "execution_count": 25
        }
      ]
    },
    {
      "cell_type": "markdown",
      "source": [
        "List Iterations"
      ],
      "metadata": {
        "id": "t4aj07GGy4Ua"
      }
    },
    {
      "cell_type": "code",
      "source": [
        "# iteration using for\n",
        "evenlist=[]\n",
        "for i in range(1,11):\n",
        "  if i%2==0:\n",
        "    evenlist.append(i)\n",
        "\n",
        "print(evenlist)"
      ],
      "metadata": {
        "id": "vDCtdyN30jWG"
      },
      "execution_count": null,
      "outputs": []
    },
    {
      "cell_type": "code",
      "source": [
        "# create a list consisting of numbers between range 1 to 10\n",
        "l2=[]\n",
        "for i in range(1,11):\n",
        "  l2.append(i)\n",
        "\n",
        "print(l2)\n"
      ],
      "metadata": {
        "id": "n1BApDcLxam5",
        "colab": {
          "base_uri": "https://localhost:8080/"
        },
        "outputId": "39df430d-1cf0-4e7f-d1cf-961252f9e721"
      },
      "execution_count": null,
      "outputs": [
        {
          "output_type": "stream",
          "name": "stdout",
          "text": [
            "[1, 2, 3, 4, 5, 6, 7, 8, 9, 10]\n"
          ]
        }
      ]
    },
    {
      "cell_type": "code",
      "source": [
        "#Create list if cities,take input from user,and new cities in the list,only one copy of city name(no duplication)"
      ],
      "metadata": {
        "id": "XfIJoQA1JJXB"
      },
      "execution_count": null,
      "outputs": []
    },
    {
      "cell_type": "code",
      "source": [
        "cities = input(\"Enter City Name :\")\n",
        "for i in cities:\n",
        "  if i != i:\n",
        "    cities.append(\"i\")\n",
        "print(cities)"
      ],
      "metadata": {
        "colab": {
          "base_uri": "https://localhost:8080/"
        },
        "id": "URMgfxxLV9xK",
        "outputId": "4a095d31-99eb-4c85-b99a-58f934867b4b"
      },
      "execution_count": null,
      "outputs": [
        {
          "output_type": "stream",
          "name": "stdout",
          "text": [
            "Enter City Name :Sambalpur\n",
            "Sambalpur\n"
          ]
        }
      ]
    },
    {
      "cell_type": "markdown",
      "source": [
        " # List Comprehensions  <br>\n",
        "\n",
        " Syntax: <br>\n",
        "new_list = [expression for item in iterable if condition]\n"
      ],
      "metadata": {
        "id": "ni6zB_nR9xdt"
      }
    },
    {
      "cell_type": "code",
      "source": [
        "list1=[i for i in range(1,11)]\n",
        "list1"
      ],
      "metadata": {
        "colab": {
          "base_uri": "https://localhost:8080/"
        },
        "id": "hjXe-LuCJ3Id",
        "outputId": "48bd16a0-18dc-4f13-82db-6673b111cf4c"
      },
      "execution_count": null,
      "outputs": [
        {
          "output_type": "execute_result",
          "data": {
            "text/plain": [
              "[1, 2, 3, 4, 5, 6, 7, 8, 9, 10]"
            ]
          },
          "metadata": {},
          "execution_count": 52
        }
      ]
    },
    {
      "cell_type": "code",
      "source": [
        "# Creating a list of squares: (1,10)\n",
        "sqlist=[i*i for i in range(1,11)]\n",
        "print(sqlist)\n",
        "\n",
        "# list of 1 to 10\n",
        "evenlist1=[i for i in range(1,11) if i %2==0]\n",
        "print(evenlist1)\n",
        "\n",
        "# Filtering even numbers:\n",
        "\n",
        "\n",
        " # Applying a function to each element:\n",
        "fruits\n",
        "for i in fruits:\n",
        "  print(str.upper(i))\n",
        "# convert every element in upper case\n",
        "\n",
        "\n"
      ],
      "metadata": {
        "id": "PJugRY6m6D2f",
        "colab": {
          "base_uri": "https://localhost:8080/"
        },
        "outputId": "7332c108-68b9-4b2b-cd83-f963d23a50c3"
      },
      "execution_count": null,
      "outputs": [
        {
          "output_type": "stream",
          "name": "stdout",
          "text": [
            "[1, 4, 9, 16, 25, 36, 49, 64, 81, 100]\n",
            "[2, 4, 6, 8, 10]\n",
            "APPLE\n",
            "APPLE\n",
            "CHERRY\n",
            "MANGO\n",
            "ORANGE\n"
          ]
        }
      ]
    },
    {
      "cell_type": "code",
      "source": [
        "evenlist"
      ],
      "metadata": {
        "colab": {
          "base_uri": "https://localhost:8080/"
        },
        "id": "uBRlYue9Mmob",
        "outputId": "b8e7c7ec-6cf0-49c6-f9b1-ebe547304e19"
      },
      "execution_count": null,
      "outputs": [
        {
          "output_type": "execute_result",
          "data": {
            "text/plain": [
              "[2, 4, 6, 8, 10]"
            ]
          },
          "metadata": {},
          "execution_count": 46
        }
      ]
    },
    {
      "cell_type": "code",
      "source": [
        "#Using for statement for accesing sequence type of data\n",
        "for j in evenlist:\n",
        "  print(j)\n",
        "\n"
      ],
      "metadata": {
        "colab": {
          "base_uri": "https://localhost:8080/"
        },
        "id": "c2TEYziGLoBq",
        "outputId": "27d752f0-12c3-44b7-80ae-bebdb00acb26"
      },
      "execution_count": null,
      "outputs": [
        {
          "output_type": "stream",
          "name": "stdout",
          "text": [
            "2\n",
            "4\n",
            "6\n",
            "8\n",
            "10\n"
          ]
        }
      ]
    },
    {
      "cell_type": "markdown",
      "source": [
        "# Tuple in Python\n",
        "A tuple is a collection of items in Python that is ordered, unchangeable (immutable) and allow duplicate values."
      ],
      "metadata": {
        "id": "fzUW4zOC-F6g"
      }
    },
    {
      "cell_type": "markdown",
      "source": [
        "Create Tuple in Python"
      ],
      "metadata": {
        "id": "g-g9OVzL-Kz-"
      }
    },
    {
      "cell_type": "code",
      "source": [
        "#empty List\n",
        "l=list() # empty list using constructor\n",
        "type(l)"
      ],
      "metadata": {
        "colab": {
          "base_uri": "https://localhost:8080/"
        },
        "id": "gz_V1PAmOpYJ",
        "outputId": "21b0e87c-1da7-4d67-a009-c2f8760ab959"
      },
      "execution_count": null,
      "outputs": [
        {
          "output_type": "execute_result",
          "data": {
            "text/plain": [
              "list"
            ]
          },
          "metadata": {},
          "execution_count": 28
        }
      ]
    },
    {
      "cell_type": "code",
      "source": [
        "# create an empty tuple\n",
        "t=()\n",
        "type(t)\n",
        "etuple=tuple() #Using Constructor\n",
        "type(etuple)"
      ],
      "metadata": {
        "id": "Ij78jfai1WWK",
        "colab": {
          "base_uri": "https://localhost:8080/"
        },
        "outputId": "bcf7d8d5-9c3c-45be-e6e9-3c878db62974"
      },
      "execution_count": null,
      "outputs": [
        {
          "output_type": "execute_result",
          "data": {
            "text/plain": [
              "tuple"
            ]
          },
          "metadata": {},
          "execution_count": 29
        }
      ]
    },
    {
      "cell_type": "code",
      "source": [
        "#tuple with single element\n",
        "stuple=(7,)\n",
        "print(stuple)\n",
        "type(stuple)"
      ],
      "metadata": {
        "colab": {
          "base_uri": "https://localhost:8080/"
        },
        "id": "BDFtFzUrN11u",
        "outputId": "9f146cc6-b0d1-4c4c-9319-5b4b94e64817"
      },
      "execution_count": null,
      "outputs": [
        {
          "output_type": "stream",
          "name": "stdout",
          "text": [
            "(7,)\n"
          ]
        },
        {
          "output_type": "execute_result",
          "data": {
            "text/plain": [
              "tuple"
            ]
          },
          "metadata": {},
          "execution_count": 50
        }
      ]
    },
    {
      "cell_type": "code",
      "source": [
        "# 1.\tUsing Parentheses ()\n",
        "colors = (\"red\", \"green\", \"blue\")\n",
        "print(\"colors=\",colors)\n",
        "numbers = (1, 2, 3, 4, 5)\n",
        "print(\"numbers=\",numbers)\n",
        "mixed = (1, \"hello\", 3.14, True)\n",
        "print(\"mixed list items=\",mixed)\n",
        "nested = (1, [2, 3], (4, 5, 6))\n",
        "print(\"nested list =\",nested)\n",
        "# 2.\tWithout Parentheses (Comma-Separated) also_\n",
        "numbers = 1, 2, 3, 4, 5\n",
        "print(numbers)\n",
        "# 3.\t Using the tuple() Constructor\n",
        "new_tuple = tuple((\"apple\", \"banana\", \"cherry\"))\n",
        "print(new_tuple)\n",
        " # use double brackets\n",
        "list_items = [\"x\", \"y\", \"z\"]\n",
        "# Creating a tuple from a list\n",
        "tuple_items = tuple(list_items) # convert list to tuple\n",
        "print(tuple_items)\n",
        "# ('x', 'y', 'z’)\n",
        "# 4.\tSingle-Item Tuple tuple\n",
        "country=('India',)\n",
        "print(\"Single element tuple\",country)\n"
      ],
      "metadata": {
        "id": "s8I3rIXL-FIL",
        "colab": {
          "base_uri": "https://localhost:8080/"
        },
        "outputId": "ef84120c-7048-4dff-9a97-57051783d83f"
      },
      "execution_count": null,
      "outputs": [
        {
          "output_type": "stream",
          "name": "stdout",
          "text": [
            "colors= ('red', 'green', 'blue')\n",
            "numbers= (1, 2, 3, 4, 5)\n",
            "mixed list items= (1, 'hello', 3.14, True)\n",
            "nested list = (1, [2, 3], (4, 5, 6))\n",
            "(1, 2, 3, 4, 5)\n",
            "('apple', 'banana', 'cherry')\n",
            "('x', 'y', 'z')\n",
            "Single element tuple ('India',)\n"
          ]
        }
      ]
    },
    {
      "cell_type": "code",
      "source": [
        "# create tuple consisting of single element\n"
      ],
      "metadata": {
        "id": "zpsYUZRe2OXc"
      },
      "execution_count": null,
      "outputs": []
    },
    {
      "cell_type": "markdown",
      "source": [
        "# Accessing Tuple Elements"
      ],
      "metadata": {
        "id": "satajRX4_RFc"
      }
    },
    {
      "cell_type": "code",
      "source": [
        "fruits = (\"apple\", \"orange\", \"cherry\", \"apple\", \"mango\")\n",
        "# Access first element\n",
        "print(fruits[0])\n",
        "# Access third element\n",
        "print(fruits[2])\n",
        "\n",
        "# Access last element using negative index\n",
        "print(fruits[-1])\n",
        "\n"
      ],
      "metadata": {
        "id": "c82HqOBO-FV3",
        "colab": {
          "base_uri": "https://localhost:8080/"
        },
        "outputId": "f0c0cb3e-cfb1-4e3a-dacd-f75c4f9911fe"
      },
      "execution_count": null,
      "outputs": [
        {
          "output_type": "stream",
          "name": "stdout",
          "text": [
            "apple\n",
            "cherry\n",
            "mango\n"
          ]
        }
      ]
    },
    {
      "cell_type": "markdown",
      "source": [
        "# Tuple Slicing\n",
        "\n",
        "Syntax: <br>\n",
        "tuple_name[start:stop:step]"
      ],
      "metadata": {
        "id": "FPfbxsVD_qEP"
      }
    },
    {
      "cell_type": "code",
      "source": [
        "numbers = (10, 20, 30, 40, 50, 60)\n",
        "# 60=-1,50,-2,\n",
        "# Slice from index 1 to 3 20,30,40\n",
        "print(numbers[1:4])\n",
        "\n",
        "\n",
        "\n",
        "# Slice from start to index 2 10,20,30\n",
        "print(numbers[:3])\n",
        "\n",
        "# Slice all alternate 10,30,50\n",
        "print(numbers[::2])\n",
        "\n",
        "# Slice with negative indices 30,40,50\n",
        "print(numbers[-4:-1])\n",
        "\n",
        "# Reverse list\n",
        "\n",
        "\n"
      ],
      "metadata": {
        "id": "u2KB1I3h-FYh",
        "colab": {
          "base_uri": "https://localhost:8080/"
        },
        "outputId": "fbf9a38e-92b7-4499-e383-5bbd946679c5"
      },
      "execution_count": null,
      "outputs": [
        {
          "output_type": "stream",
          "name": "stdout",
          "text": [
            "(20, 30, 40)\n",
            "(10, 20, 30)\n",
            "(10, 30, 50)\n",
            "(30, 40, 50)\n"
          ]
        }
      ]
    },
    {
      "cell_type": "markdown",
      "source": [
        "# Tuple Operations\n"
      ],
      "metadata": {
        "id": "JJaDg9I5AFL5"
      }
    },
    {
      "cell_type": "code",
      "source": [
        "# 1.\tConcatenation\n",
        "# You can join two or more tuples using the + operator.\n",
        "\n",
        "tuple1 = (1, 2, 3)\n",
        "tuple2 = (4, 5)\n",
        "\n",
        "tuple1+tuple2"
      ],
      "metadata": {
        "id": "qKi-TMD5-FbE",
        "colab": {
          "base_uri": "https://localhost:8080/"
        },
        "outputId": "3afd9d93-c8c2-4186-ca50-0c181fef797f"
      },
      "execution_count": null,
      "outputs": [
        {
          "output_type": "execute_result",
          "data": {
            "text/plain": [
              "(1, 2, 3, 4, 5)"
            ]
          },
          "metadata": {},
          "execution_count": 40
        }
      ]
    },
    {
      "cell_type": "code",
      "source": [
        "a=5"
      ],
      "metadata": {
        "id": "zeo6QTac4oit"
      },
      "execution_count": null,
      "outputs": []
    },
    {
      "cell_type": "code",
      "source": [
        "# 2.\tRepetition\n",
        "# You can repeat a tuple multiple times using the * operator.\n",
        "tuple1*2\n",
        "print(tuple1)"
      ],
      "metadata": {
        "id": "Q9P9TDppEC1x",
        "colab": {
          "base_uri": "https://localhost:8080/"
        },
        "outputId": "840d4256-13bb-4df3-b4f8-60dba46a5c0c"
      },
      "execution_count": null,
      "outputs": [
        {
          "output_type": "stream",
          "name": "stdout",
          "text": [
            "(1, 2, 3)\n"
          ]
        }
      ]
    },
    {
      "cell_type": "code",
      "source": [
        "# in operator is membership operator\n",
        "30 in tuple1"
      ],
      "metadata": {
        "id": "kVxnFYpb5Igl",
        "colab": {
          "base_uri": "https://localhost:8080/"
        },
        "outputId": "efd260cf-600d-4e73-bb7f-019010bf1147"
      },
      "execution_count": null,
      "outputs": [
        {
          "output_type": "execute_result",
          "data": {
            "text/plain": [
              "False"
            ]
          },
          "metadata": {},
          "execution_count": 42
        }
      ]
    },
    {
      "cell_type": "code",
      "source": [
        "# 3.\tChecking for an Item\n",
        "# Use the in keyword to check if an item exists in a tuple.\n",
        "print(tuple1)\n",
        "\n"
      ],
      "metadata": {
        "id": "UshN4EKoECwY"
      },
      "execution_count": null,
      "outputs": []
    },
    {
      "cell_type": "markdown",
      "source": [
        "# Iterating Over Tuple"
      ],
      "metadata": {
        "id": "qPaHOzIKFZ1T"
      }
    },
    {
      "cell_type": "code",
      "source": [
        "fruits = (\"apple\", \"mango\", \"cherry\")\n",
        "# Using for loop\n",
        "for d in fruits:\n",
        "  print(d)\n",
        "\n",
        "#Length for tuple\n",
        "print(\"Length\",len(fruits))\n",
        "\n",
        "# Using while loop\n",
        "k=0\n",
        "while k <len(fruits):\n",
        "  print(fruits[k])\n",
        "  k=k+1\n",
        "\n",
        "\n",
        "\n",
        "# Tuple Methods\n",
        "# 1. count(x): Returns the number of times x appears in the tuple.\n",
        "print(\"Count of apple=\",fruits.count('apple'))\n",
        "\n",
        "#2. index(x): Returns the first index of the value x. Raises an error if not found.\n",
        "\n",
        "fruits.index('cherry')\n"
      ],
      "metadata": {
        "id": "gsJ6AMj_FZgh",
        "colab": {
          "base_uri": "https://localhost:8080/"
        },
        "outputId": "b5f87ff6-8287-434e-92c9-00221a714ba5"
      },
      "execution_count": null,
      "outputs": [
        {
          "output_type": "stream",
          "name": "stdout",
          "text": [
            "apple\n",
            "mango\n",
            "cherry\n",
            "Length 3\n",
            "apple\n",
            "mango\n",
            "cherry\n",
            "Count of apple= 1\n"
          ]
        },
        {
          "output_type": "execute_result",
          "data": {
            "text/plain": [
              "2"
            ]
          },
          "metadata": {},
          "execution_count": 72
        }
      ]
    },
    {
      "cell_type": "markdown",
      "source": [
        "# Tuple Functions"
      ],
      "metadata": {
        "id": "fp85hB_qPuzT"
      }
    },
    {
      "cell_type": "code",
      "source": [
        "\"\"\"\n",
        "# Functions of tuple\n",
        "function\t          Description\t                              Example\n",
        "len()\t         Returns the number of elements in the tuple\t  len((1, 2, 3)) → 3\n",
        "max()          Returns the maximum value\t                    max((3, 6, 1)) → 6\n",
        "min()\t         Returns the minimum value                     \tmin((3, 6, 1)) → 1\n",
        "sum()\t        Returns the sum of elements\t                   sum((3, 6, 1)) → 10\n",
        "sorted()\t    Returns a sorted list from the tuple\n",
        "                                                   sorted((3, 1, 2)) → [1, 2, 3]\n",
        "any()\t         Returns True if any element is True\t       any((0, 0, 1)) → True\n",
        "all()\t    Returns True if all elements are True\t           all((1, 2, 3)) → True\n",
        "tuple()  \tConverts iterable to a tuple\t            tuple([1, 2, 3]) → (1, 2, 3)\n",
        "\"\"\""
      ],
      "metadata": {
        "id": "HuER5_lBQsFC"
      },
      "execution_count": null,
      "outputs": []
    },
    {
      "cell_type": "code",
      "source": [
        "print(len((1, 2, 3))) # 3\n",
        "print(max((3, 6, 1))) # 6\n",
        "print(min((3, 6, 1))) # 1\n",
        "print(sum((3, 6, 1))) # 10\n",
        "print(sorted((3, 1, 2))) # 1,2,3\n",
        "print(any((0, 0, 1))) # True\n",
        "print(all((1, 2, 1))) # True\n",
        "print(tuple([1, 2, 3])) # converting list to tuple"
      ],
      "metadata": {
        "id": "pCGSt-Xn6D9R",
        "colab": {
          "base_uri": "https://localhost:8080/"
        },
        "outputId": "dc058967-5cc7-44e0-e5d1-e7538e89f9b3"
      },
      "execution_count": null,
      "outputs": [
        {
          "output_type": "stream",
          "name": "stdout",
          "text": [
            "3\n",
            "6\n",
            "1\n",
            "10\n",
            "[1, 2, 3]\n",
            "True\n",
            "True\n",
            "(1, 2, 3)\n"
          ]
        }
      ]
    },
    {
      "cell_type": "code",
      "source": [
        "True and True"
      ],
      "metadata": {
        "id": "W56l4iM86Dt3"
      },
      "execution_count": null,
      "outputs": []
    },
    {
      "cell_type": "markdown",
      "source": [
        "# Set in Python\n",
        "Python A set is a collection of unique items in Python. Sets do not allow duplicate items and do not maintain any particular order so it can’t be indexed. <br>\n",
        "\n",
        "Characteristics of Sets: <br>\n",
        "• Unordered: Elements have no defined order. You cannot access elements by index.<br>\n",
        " • Unique Elements: No duplicates allowed. Each element must be distinct. <br>\n",
        "• Mutable: You can add or remove elements after creation. <br>\n",
        "• Immutable Elements: individual elements inside a set cannot be modified/replaced <br>"
      ],
      "metadata": {
        "id": "OLTU51mgReOv"
      }
    },
    {
      "cell_type": "markdown",
      "source": [
        "Create Set in Python"
      ],
      "metadata": {
        "id": "0oOem4QmSVza"
      }
    },
    {
      "cell_type": "code",
      "source": [
        "#Empty set\n",
        "s1=set()\n",
        "type(s1)"
      ],
      "metadata": {
        "id": "jJbOgZVS663E",
        "colab": {
          "base_uri": "https://localhost:8080/"
        },
        "outputId": "4d41a355-52f2-41f4-8b23-ef9986c841c8"
      },
      "execution_count": null,
      "outputs": [
        {
          "output_type": "execute_result",
          "data": {
            "text/plain": [
              "set"
            ]
          },
          "metadata": {},
          "execution_count": 44
        }
      ]
    },
    {
      "cell_type": "code",
      "source": [
        "# 1.\tUsing Curly Braces {}\n",
        "my_set = {1, 2, 3, 4, 5,6,2,3} # integer set # unique\n",
        "print(my_set)\n",
        "# Output: {1, 2, 3, 4, 5}\n",
        "# 2.\tUsing the set() Constructor\n",
        "my_set = set([1, 2, 3, 4, 5])\n",
        "print(my_set)\n",
        "# Output: {1, 2, 3, 4, 5}\n",
        "# Creating an empty set\n",
        "empty_set = set()\n",
        "print(empty_set)\n",
        "# Output: set()\n"
      ],
      "metadata": {
        "id": "eE5PhRiqRB_W",
        "colab": {
          "base_uri": "https://localhost:8080/"
        },
        "outputId": "b5bf9cdd-f115-4ab0-8ce1-221ae2916fbe"
      },
      "execution_count": null,
      "outputs": [
        {
          "output_type": "stream",
          "name": "stdout",
          "text": [
            "{1, 2, 3, 4, 5, 6}\n",
            "{1, 2, 3, 4, 5}\n",
            "set()\n"
          ]
        }
      ]
    },
    {
      "cell_type": "code",
      "source": [
        "my_set"
      ],
      "metadata": {
        "id": "vItYHADl7Kwo"
      },
      "execution_count": null,
      "outputs": []
    },
    {
      "cell_type": "code",
      "source": [
        "# Generate a list consisting of unique element\n",
        "mylist=[1,5,1,3,7,3]\n",
        "mylist\n",
        "list(set(mylist))"
      ],
      "metadata": {
        "id": "tfr7HE537Khp",
        "colab": {
          "base_uri": "https://localhost:8080/"
        },
        "outputId": "dc24c04d-1eb5-4ca2-d7e2-70d5ba484b06"
      },
      "execution_count": null,
      "outputs": [
        {
          "output_type": "execute_result",
          "data": {
            "text/plain": [
              "[1, 3, 5, 7]"
            ]
          },
          "metadata": {},
          "execution_count": 45
        }
      ]
    },
    {
      "cell_type": "markdown",
      "source": [
        "Set Operations"
      ],
      "metadata": {
        "id": "dUU6BZx7SkgM"
      }
    },
    {
      "cell_type": "code",
      "source": [
        "# 1.\tAdding Elements : Use the add() method to add a single element to a set.\n",
        "fruits = {'apple', 'banana'}\n",
        "fruits.add('cherry')\n",
        "print(fruits)\n",
        "# Output: {'apple', 'banana', 'cherry’}\n",
        "# 2.\tRemoving Elements: Use the remove() or discard() methods to remove elements.\n",
        "# • remove() raises an error if the element is not found.\n",
        "# • discard() does not raise an error if the element is missing.\n",
        "fruits.remove('apple')\n",
        "\n",
        "\n",
        "# Using discard()\n",
        "fruits.discard('cherry')\n",
        "print(fruits)\n",
        "\n"
      ],
      "metadata": {
        "id": "zIdA8ih3SlMr",
        "colab": {
          "base_uri": "https://localhost:8080/"
        },
        "outputId": "0aa11e6f-ecc2-49dd-a9ac-ca4c74cd35f8"
      },
      "execution_count": null,
      "outputs": [
        {
          "output_type": "stream",
          "name": "stdout",
          "text": [
            "{'apple', 'banana', 'cherry'}\n",
            "{'banana'}\n"
          ]
        }
      ]
    },
    {
      "cell_type": "markdown",
      "source": [
        "# Set Methods\n",
        "\n",
        "1.\tUnion: Combines elements from two sets, removing duplicates.<br>\n",
        "  \n",
        "  \n",
        "\n"
      ],
      "metadata": {
        "id": "OnEHh3i0TGgF"
      }
    },
    {
      "cell_type": "code",
      "source": [
        "# Union\n",
        "set_a = {1, 2, 3}\n",
        "set_b = {3, 4, 5}\n",
        "set_a.union(set_b)\n"
      ],
      "metadata": {
        "id": "ah3Cy5_rTY54",
        "colab": {
          "base_uri": "https://localhost:8080/"
        },
        "outputId": "2a14f93a-34c4-4798-fca9-328653dc6b4b"
      },
      "execution_count": null,
      "outputs": [
        {
          "output_type": "execute_result",
          "data": {
            "text/plain": [
              "{1, 2, 3, 4, 5}"
            ]
          },
          "metadata": {},
          "execution_count": 46
        }
      ]
    },
    {
      "cell_type": "code",
      "source": [
        "# 2.\tIntersection: Includes only elements present in both sets.  <br>\n",
        "set_a = {1, 2, 3}\n",
        "set_b = {2, 3, 4}\n",
        "\n",
        "set_a.intersection(set_b)\n"
      ],
      "metadata": {
        "id": "QLGsNRFvcNCT",
        "colab": {
          "base_uri": "https://localhost:8080/"
        },
        "outputId": "bf5965e2-96c7-4094-dffa-ee6f841e3b61"
      },
      "execution_count": null,
      "outputs": [
        {
          "output_type": "execute_result",
          "data": {
            "text/plain": [
              "{2, 3}"
            ]
          },
          "metadata": {},
          "execution_count": 47
        }
      ]
    },
    {
      "cell_type": "code",
      "source": [
        "# 3.\tDifference: Elements present in the first set but not in the second.\n",
        "# what is different in set a from set b\n",
        "set_a = {1, 2, 3, 4}\n",
        "set_b = {3, 4, 5}\n",
        "\n",
        "set_b.difference(set_a)"
      ],
      "metadata": {
        "id": "NNViB0bMcW9F",
        "colab": {
          "base_uri": "https://localhost:8080/"
        },
        "outputId": "c5bf6dc7-71a4-4d11-9ed0-2db4d67a74f2"
      },
      "execution_count": null,
      "outputs": [
        {
          "output_type": "execute_result",
          "data": {
            "text/plain": [
              "{5}"
            ]
          },
          "metadata": {},
          "execution_count": 50
        }
      ]
    },
    {
      "cell_type": "code",
      "source": [
        "# 4.\tSymmetric Difference: Elements in either set, but not in both.\n",
        "set_a = {1, 2, 3}\n",
        "set_b = {3, 4, 5}\n",
        "set_a.symmetric_difference(set_b)"
      ],
      "metadata": {
        "id": "8xuNoGPIcZQ3",
        "colab": {
          "base_uri": "https://localhost:8080/"
        },
        "outputId": "104787ec-3a6c-4905-cb71-be36cbe03fc2"
      },
      "execution_count": null,
      "outputs": [
        {
          "output_type": "execute_result",
          "data": {
            "text/plain": [
              "{1, 2, 4, 5}"
            ]
          },
          "metadata": {},
          "execution_count": 87
        }
      ]
    },
    {
      "cell_type": "markdown",
      "source": [
        "# Dictionaries <br>\n",
        "Data is stored in key and value pair"
      ],
      "metadata": {
        "id": "kTeFU485CAvg"
      }
    },
    {
      "cell_type": "code",
      "source": [
        "# creating empty dictionary\n",
        "\n",
        "d1=dict() #using constructor\n",
        "type(d1)\n",
        "\n"
      ],
      "metadata": {
        "id": "CcukaO6ECDoy"
      },
      "execution_count": null,
      "outputs": []
    },
    {
      "cell_type": "code",
      "source": [
        "my_dictionary={\n",
        "    1:'One',\n",
        "    2:'Two',\n",
        "    3:'Three',\n",
        "    4:'Four',\n",
        "    'empid':101,\n",
        "    85000:'salary',\n",
        "    'branch':['mumbai','pune']\n",
        "}\n",
        "my_dictionary"
      ],
      "metadata": {
        "colab": {
          "base_uri": "https://localhost:8080/"
        },
        "id": "hMZDilG3cuaJ",
        "outputId": "00f1386d-6e70-4181-eeb6-dbbfa78ccf2b"
      },
      "execution_count": null,
      "outputs": [
        {
          "output_type": "execute_result",
          "data": {
            "text/plain": [
              "{1: 'One',\n",
              " 2: 'Two',\n",
              " 3: 'Three',\n",
              " 4: 'Four',\n",
              " 'empid': 101,\n",
              " 85000: 'salary',\n",
              " 'branch': ['mumbai', 'pune']}"
            ]
          },
          "metadata": {},
          "execution_count": 54
        }
      ]
    },
    {
      "cell_type": "code",
      "source": [
        "my_dictionary['branch']"
      ],
      "metadata": {
        "colab": {
          "base_uri": "https://localhost:8080/"
        },
        "id": "bavAdQr_dOZu",
        "outputId": "8c5a7abe-9075-4e48-d8c9-c6b7ecbde5b0"
      },
      "execution_count": null,
      "outputs": [
        {
          "output_type": "execute_result",
          "data": {
            "text/plain": [
              "['mumbai', 'pune']"
            ]
          },
          "metadata": {},
          "execution_count": 55
        }
      ]
    },
    {
      "cell_type": "code",
      "source": [
        "for i in my_dictionary:\n",
        "  print(i)"
      ],
      "metadata": {
        "colab": {
          "base_uri": "https://localhost:8080/"
        },
        "id": "uE18Ic8OdX3y",
        "outputId": "3cd0bc05-5521-4f17-eaaa-845c3ac3e07d"
      },
      "execution_count": null,
      "outputs": [
        {
          "output_type": "stream",
          "name": "stdout",
          "text": [
            "1\n",
            "2\n",
            "3\n",
            "4\n",
            "empid\n",
            "85000\n",
            "branch\n"
          ]
        }
      ]
    },
    {
      "cell_type": "markdown",
      "source": [
        "keys()"
      ],
      "metadata": {
        "id": "fbaviJcoxHi4"
      }
    },
    {
      "cell_type": "code",
      "source": [
        "for i in my_dictionary.keys():\n",
        "  print(i)"
      ],
      "metadata": {
        "id": "cNQ2wizCDptp",
        "colab": {
          "base_uri": "https://localhost:8080/"
        },
        "outputId": "2eef0cb4-5dba-4dfc-985a-1f52336792bf"
      },
      "execution_count": null,
      "outputs": [
        {
          "output_type": "stream",
          "name": "stdout",
          "text": [
            "1\n",
            "2\n",
            "3\n",
            "4\n",
            "empid\n",
            "85000\n",
            "branch\n"
          ]
        }
      ]
    },
    {
      "cell_type": "markdown",
      "source": [
        "values()"
      ],
      "metadata": {
        "id": "xCgFlilKxJN5"
      }
    },
    {
      "cell_type": "code",
      "source": [
        "# access\n",
        "for i in my_dictionary.values():\n",
        "  print(i)"
      ],
      "metadata": {
        "id": "idaQWLFdCssZ",
        "colab": {
          "base_uri": "https://localhost:8080/"
        },
        "outputId": "b184d982-9b13-485e-b0bd-a20b8520287c"
      },
      "execution_count": null,
      "outputs": [
        {
          "output_type": "stream",
          "name": "stdout",
          "text": [
            "One\n",
            "Two\n",
            "Three\n",
            "Four\n",
            "101\n",
            "salary\n",
            "['mumbai', 'pune']\n"
          ]
        }
      ]
    },
    {
      "cell_type": "markdown",
      "source": [
        "items()"
      ],
      "metadata": {
        "id": "MQs2dbKtxK15"
      }
    },
    {
      "cell_type": "code",
      "source": [
        "for i in my_dictionary.items():\n",
        "  print(i)"
      ],
      "metadata": {
        "id": "UHKhHRw1DLyv",
        "colab": {
          "base_uri": "https://localhost:8080/"
        },
        "outputId": "f673024a-c634-40bc-d9c8-caaa19e2bf80"
      },
      "execution_count": null,
      "outputs": [
        {
          "output_type": "stream",
          "name": "stdout",
          "text": [
            "(1, 'One')\n",
            "(2, 'Two')\n",
            "(3, 'Three')\n",
            "(4, 'Four')\n",
            "('empid', 101)\n",
            "(85000, 'salary')\n",
            "('branch', ['mumbai', 'pune'])\n"
          ]
        }
      ]
    },
    {
      "cell_type": "code",
      "source": [
        "# access single element\n",
        "print(my_dictionary['empid'])\n",
        "print(my_dictionary[85000])"
      ],
      "metadata": {
        "id": "85f114AyDTpH",
        "colab": {
          "base_uri": "https://localhost:8080/"
        },
        "outputId": "9bb8e76c-b360-48aa-ba12-c37e3c8ec092"
      },
      "execution_count": null,
      "outputs": [
        {
          "output_type": "stream",
          "name": "stdout",
          "text": [
            "101\n",
            "salary\n"
          ]
        }
      ]
    },
    {
      "cell_type": "code",
      "source": [
        "# add new pair\n",
        "my_dictionary['department']='HR'\n",
        "my_dictionary"
      ],
      "metadata": {
        "id": "07Axl1rdD1bX",
        "colab": {
          "base_uri": "https://localhost:8080/"
        },
        "outputId": "697b8641-cad6-4124-e65d-6e17126ea521"
      },
      "execution_count": null,
      "outputs": [
        {
          "output_type": "execute_result",
          "data": {
            "text/plain": [
              "{1: 'One',\n",
              " 2: 'Two',\n",
              " 3: 'Three',\n",
              " 4: 'Four',\n",
              " 'empid': 101,\n",
              " 85000: 'salary',\n",
              " 'branch': ['mumbai', 'pune'],\n",
              " 'department': 'HR'}"
            ]
          },
          "metadata": {},
          "execution_count": 96
        }
      ]
    },
    {
      "cell_type": "code",
      "source": [
        "# remove element from dictionary\n",
        "my_dictionary.pop(85000)"
      ],
      "metadata": {
        "id": "e8RUxz9ID_nx",
        "colab": {
          "base_uri": "https://localhost:8080/",
          "height": 35
        },
        "outputId": "a24b81bd-7acc-4ce8-95b4-ac9fe1f27756"
      },
      "execution_count": null,
      "outputs": [
        {
          "output_type": "execute_result",
          "data": {
            "text/plain": [
              "'salary'"
            ],
            "application/vnd.google.colaboratory.intrinsic+json": {
              "type": "string"
            }
          },
          "metadata": {},
          "execution_count": 97
        }
      ]
    },
    {
      "cell_type": "code",
      "source": [
        "my_dictionary"
      ],
      "metadata": {
        "id": "6kYIo2XQELBo",
        "colab": {
          "base_uri": "https://localhost:8080/"
        },
        "outputId": "595d5525-c48b-432b-853d-833acb9cc381"
      },
      "execution_count": null,
      "outputs": [
        {
          "output_type": "execute_result",
          "data": {
            "text/plain": [
              "{1: 'One',\n",
              " 2: 'Two',\n",
              " 3: 'Three',\n",
              " 4: 'Four',\n",
              " 'empid': 101,\n",
              " 'branch': ['mumbai', 'pune'],\n",
              " 'department': 'HR'}"
            ]
          },
          "metadata": {},
          "execution_count": 98
        }
      ]
    },
    {
      "cell_type": "code",
      "source": [
        "# dictionary consisting student records\n",
        "\n",
        "student={\n",
        "    'rollnumber':[i for i in range(5)],\n",
        "    'names':['Alice','Bob','Clara','David','John'],\n",
        "    'location':['X','Y','P','Q','R']\n",
        "}\n",
        "student"
      ],
      "metadata": {
        "id": "DT1nzoW8EP2u",
        "colab": {
          "base_uri": "https://localhost:8080/"
        },
        "outputId": "0bfe0f1b-dbb5-4aeb-ad52-2daeb5c5020a"
      },
      "execution_count": null,
      "outputs": [
        {
          "output_type": "execute_result",
          "data": {
            "text/plain": [
              "{'rollnumber': [0, 1, 2, 3, 4],\n",
              " 'names': ['Alice', 'Bob', 'Clara', 'David', 'John'],\n",
              " 'location': ['X', 'Y', 'P', 'Q', 'R']}"
            ]
          },
          "metadata": {},
          "execution_count": 99
        }
      ]
    },
    {
      "cell_type": "code",
      "source": [
        "import pandas as pd\n",
        "pd.DataFrame(student)"
      ],
      "metadata": {
        "id": "Casyr299Etru",
        "colab": {
          "base_uri": "https://localhost:8080/",
          "height": 206
        },
        "outputId": "81bc6cce-727f-421b-9ec7-5502cc1cd70f"
      },
      "execution_count": null,
      "outputs": [
        {
          "output_type": "execute_result",
          "data": {
            "text/plain": [
              "   rollnumber  names location\n",
              "0           0  Alice        X\n",
              "1           1    Bob        Y\n",
              "2           2  Clara        P\n",
              "3           3  David        Q\n",
              "4           4   John        R"
            ],
            "text/html": [
              "\n",
              "  <div id=\"df-7e5ba11e-fe99-43c3-88af-802b02918419\" class=\"colab-df-container\">\n",
              "    <div>\n",
              "<style scoped>\n",
              "    .dataframe tbody tr th:only-of-type {\n",
              "        vertical-align: middle;\n",
              "    }\n",
              "\n",
              "    .dataframe tbody tr th {\n",
              "        vertical-align: top;\n",
              "    }\n",
              "\n",
              "    .dataframe thead th {\n",
              "        text-align: right;\n",
              "    }\n",
              "</style>\n",
              "<table border=\"1\" class=\"dataframe\">\n",
              "  <thead>\n",
              "    <tr style=\"text-align: right;\">\n",
              "      <th></th>\n",
              "      <th>rollnumber</th>\n",
              "      <th>names</th>\n",
              "      <th>location</th>\n",
              "    </tr>\n",
              "  </thead>\n",
              "  <tbody>\n",
              "    <tr>\n",
              "      <th>0</th>\n",
              "      <td>0</td>\n",
              "      <td>Alice</td>\n",
              "      <td>X</td>\n",
              "    </tr>\n",
              "    <tr>\n",
              "      <th>1</th>\n",
              "      <td>1</td>\n",
              "      <td>Bob</td>\n",
              "      <td>Y</td>\n",
              "    </tr>\n",
              "    <tr>\n",
              "      <th>2</th>\n",
              "      <td>2</td>\n",
              "      <td>Clara</td>\n",
              "      <td>P</td>\n",
              "    </tr>\n",
              "    <tr>\n",
              "      <th>3</th>\n",
              "      <td>3</td>\n",
              "      <td>David</td>\n",
              "      <td>Q</td>\n",
              "    </tr>\n",
              "    <tr>\n",
              "      <th>4</th>\n",
              "      <td>4</td>\n",
              "      <td>John</td>\n",
              "      <td>R</td>\n",
              "    </tr>\n",
              "  </tbody>\n",
              "</table>\n",
              "</div>\n",
              "    <div class=\"colab-df-buttons\">\n",
              "\n",
              "  <div class=\"colab-df-container\">\n",
              "    <button class=\"colab-df-convert\" onclick=\"convertToInteractive('df-7e5ba11e-fe99-43c3-88af-802b02918419')\"\n",
              "            title=\"Convert this dataframe to an interactive table.\"\n",
              "            style=\"display:none;\">\n",
              "\n",
              "  <svg xmlns=\"http://www.w3.org/2000/svg\" height=\"24px\" viewBox=\"0 -960 960 960\">\n",
              "    <path d=\"M120-120v-720h720v720H120Zm60-500h600v-160H180v160Zm220 220h160v-160H400v160Zm0 220h160v-160H400v160ZM180-400h160v-160H180v160Zm440 0h160v-160H620v160ZM180-180h160v-160H180v160Zm440 0h160v-160H620v160Z\"/>\n",
              "  </svg>\n",
              "    </button>\n",
              "\n",
              "  <style>\n",
              "    .colab-df-container {\n",
              "      display:flex;\n",
              "      gap: 12px;\n",
              "    }\n",
              "\n",
              "    .colab-df-convert {\n",
              "      background-color: #E8F0FE;\n",
              "      border: none;\n",
              "      border-radius: 50%;\n",
              "      cursor: pointer;\n",
              "      display: none;\n",
              "      fill: #1967D2;\n",
              "      height: 32px;\n",
              "      padding: 0 0 0 0;\n",
              "      width: 32px;\n",
              "    }\n",
              "\n",
              "    .colab-df-convert:hover {\n",
              "      background-color: #E2EBFA;\n",
              "      box-shadow: 0px 1px 2px rgba(60, 64, 67, 0.3), 0px 1px 3px 1px rgba(60, 64, 67, 0.15);\n",
              "      fill: #174EA6;\n",
              "    }\n",
              "\n",
              "    .colab-df-buttons div {\n",
              "      margin-bottom: 4px;\n",
              "    }\n",
              "\n",
              "    [theme=dark] .colab-df-convert {\n",
              "      background-color: #3B4455;\n",
              "      fill: #D2E3FC;\n",
              "    }\n",
              "\n",
              "    [theme=dark] .colab-df-convert:hover {\n",
              "      background-color: #434B5C;\n",
              "      box-shadow: 0px 1px 3px 1px rgba(0, 0, 0, 0.15);\n",
              "      filter: drop-shadow(0px 1px 2px rgba(0, 0, 0, 0.3));\n",
              "      fill: #FFFFFF;\n",
              "    }\n",
              "  </style>\n",
              "\n",
              "    <script>\n",
              "      const buttonEl =\n",
              "        document.querySelector('#df-7e5ba11e-fe99-43c3-88af-802b02918419 button.colab-df-convert');\n",
              "      buttonEl.style.display =\n",
              "        google.colab.kernel.accessAllowed ? 'block' : 'none';\n",
              "\n",
              "      async function convertToInteractive(key) {\n",
              "        const element = document.querySelector('#df-7e5ba11e-fe99-43c3-88af-802b02918419');\n",
              "        const dataTable =\n",
              "          await google.colab.kernel.invokeFunction('convertToInteractive',\n",
              "                                                    [key], {});\n",
              "        if (!dataTable) return;\n",
              "\n",
              "        const docLinkHtml = 'Like what you see? Visit the ' +\n",
              "          '<a target=\"_blank\" href=https://colab.research.google.com/notebooks/data_table.ipynb>data table notebook</a>'\n",
              "          + ' to learn more about interactive tables.';\n",
              "        element.innerHTML = '';\n",
              "        dataTable['output_type'] = 'display_data';\n",
              "        await google.colab.output.renderOutput(dataTable, element);\n",
              "        const docLink = document.createElement('div');\n",
              "        docLink.innerHTML = docLinkHtml;\n",
              "        element.appendChild(docLink);\n",
              "      }\n",
              "    </script>\n",
              "  </div>\n",
              "\n",
              "\n",
              "    <div id=\"df-7da453f3-7949-4d92-9c4c-5fd37fce52a6\">\n",
              "      <button class=\"colab-df-quickchart\" onclick=\"quickchart('df-7da453f3-7949-4d92-9c4c-5fd37fce52a6')\"\n",
              "                title=\"Suggest charts\"\n",
              "                style=\"display:none;\">\n",
              "\n",
              "<svg xmlns=\"http://www.w3.org/2000/svg\" height=\"24px\"viewBox=\"0 0 24 24\"\n",
              "     width=\"24px\">\n",
              "    <g>\n",
              "        <path d=\"M19 3H5c-1.1 0-2 .9-2 2v14c0 1.1.9 2 2 2h14c1.1 0 2-.9 2-2V5c0-1.1-.9-2-2-2zM9 17H7v-7h2v7zm4 0h-2V7h2v10zm4 0h-2v-4h2v4z\"/>\n",
              "    </g>\n",
              "</svg>\n",
              "      </button>\n",
              "\n",
              "<style>\n",
              "  .colab-df-quickchart {\n",
              "      --bg-color: #E8F0FE;\n",
              "      --fill-color: #1967D2;\n",
              "      --hover-bg-color: #E2EBFA;\n",
              "      --hover-fill-color: #174EA6;\n",
              "      --disabled-fill-color: #AAA;\n",
              "      --disabled-bg-color: #DDD;\n",
              "  }\n",
              "\n",
              "  [theme=dark] .colab-df-quickchart {\n",
              "      --bg-color: #3B4455;\n",
              "      --fill-color: #D2E3FC;\n",
              "      --hover-bg-color: #434B5C;\n",
              "      --hover-fill-color: #FFFFFF;\n",
              "      --disabled-bg-color: #3B4455;\n",
              "      --disabled-fill-color: #666;\n",
              "  }\n",
              "\n",
              "  .colab-df-quickchart {\n",
              "    background-color: var(--bg-color);\n",
              "    border: none;\n",
              "    border-radius: 50%;\n",
              "    cursor: pointer;\n",
              "    display: none;\n",
              "    fill: var(--fill-color);\n",
              "    height: 32px;\n",
              "    padding: 0;\n",
              "    width: 32px;\n",
              "  }\n",
              "\n",
              "  .colab-df-quickchart:hover {\n",
              "    background-color: var(--hover-bg-color);\n",
              "    box-shadow: 0 1px 2px rgba(60, 64, 67, 0.3), 0 1px 3px 1px rgba(60, 64, 67, 0.15);\n",
              "    fill: var(--button-hover-fill-color);\n",
              "  }\n",
              "\n",
              "  .colab-df-quickchart-complete:disabled,\n",
              "  .colab-df-quickchart-complete:disabled:hover {\n",
              "    background-color: var(--disabled-bg-color);\n",
              "    fill: var(--disabled-fill-color);\n",
              "    box-shadow: none;\n",
              "  }\n",
              "\n",
              "  .colab-df-spinner {\n",
              "    border: 2px solid var(--fill-color);\n",
              "    border-color: transparent;\n",
              "    border-bottom-color: var(--fill-color);\n",
              "    animation:\n",
              "      spin 1s steps(1) infinite;\n",
              "  }\n",
              "\n",
              "  @keyframes spin {\n",
              "    0% {\n",
              "      border-color: transparent;\n",
              "      border-bottom-color: var(--fill-color);\n",
              "      border-left-color: var(--fill-color);\n",
              "    }\n",
              "    20% {\n",
              "      border-color: transparent;\n",
              "      border-left-color: var(--fill-color);\n",
              "      border-top-color: var(--fill-color);\n",
              "    }\n",
              "    30% {\n",
              "      border-color: transparent;\n",
              "      border-left-color: var(--fill-color);\n",
              "      border-top-color: var(--fill-color);\n",
              "      border-right-color: var(--fill-color);\n",
              "    }\n",
              "    40% {\n",
              "      border-color: transparent;\n",
              "      border-right-color: var(--fill-color);\n",
              "      border-top-color: var(--fill-color);\n",
              "    }\n",
              "    60% {\n",
              "      border-color: transparent;\n",
              "      border-right-color: var(--fill-color);\n",
              "    }\n",
              "    80% {\n",
              "      border-color: transparent;\n",
              "      border-right-color: var(--fill-color);\n",
              "      border-bottom-color: var(--fill-color);\n",
              "    }\n",
              "    90% {\n",
              "      border-color: transparent;\n",
              "      border-bottom-color: var(--fill-color);\n",
              "    }\n",
              "  }\n",
              "</style>\n",
              "\n",
              "      <script>\n",
              "        async function quickchart(key) {\n",
              "          const quickchartButtonEl =\n",
              "            document.querySelector('#' + key + ' button');\n",
              "          quickchartButtonEl.disabled = true;  // To prevent multiple clicks.\n",
              "          quickchartButtonEl.classList.add('colab-df-spinner');\n",
              "          try {\n",
              "            const charts = await google.colab.kernel.invokeFunction(\n",
              "                'suggestCharts', [key], {});\n",
              "          } catch (error) {\n",
              "            console.error('Error during call to suggestCharts:', error);\n",
              "          }\n",
              "          quickchartButtonEl.classList.remove('colab-df-spinner');\n",
              "          quickchartButtonEl.classList.add('colab-df-quickchart-complete');\n",
              "        }\n",
              "        (() => {\n",
              "          let quickchartButtonEl =\n",
              "            document.querySelector('#df-7da453f3-7949-4d92-9c4c-5fd37fce52a6 button');\n",
              "          quickchartButtonEl.style.display =\n",
              "            google.colab.kernel.accessAllowed ? 'block' : 'none';\n",
              "        })();\n",
              "      </script>\n",
              "    </div>\n",
              "\n",
              "    </div>\n",
              "  </div>\n"
            ],
            "application/vnd.google.colaboratory.intrinsic+json": {
              "type": "dataframe",
              "summary": "{\n  \"name\": \"pd\",\n  \"rows\": 5,\n  \"fields\": [\n    {\n      \"column\": \"rollnumber\",\n      \"properties\": {\n        \"dtype\": \"number\",\n        \"std\": 1,\n        \"min\": 0,\n        \"max\": 4,\n        \"num_unique_values\": 5,\n        \"samples\": [\n          1,\n          4,\n          2\n        ],\n        \"semantic_type\": \"\",\n        \"description\": \"\"\n      }\n    },\n    {\n      \"column\": \"names\",\n      \"properties\": {\n        \"dtype\": \"string\",\n        \"num_unique_values\": 5,\n        \"samples\": [\n          \"Bob\",\n          \"John\",\n          \"Clara\"\n        ],\n        \"semantic_type\": \"\",\n        \"description\": \"\"\n      }\n    },\n    {\n      \"column\": \"location\",\n      \"properties\": {\n        \"dtype\": \"string\",\n        \"num_unique_values\": 5,\n        \"samples\": [\n          \"Y\",\n          \"R\",\n          \"P\"\n        ],\n        \"semantic_type\": \"\",\n        \"description\": \"\"\n      }\n    }\n  ]\n}"
            }
          },
          "metadata": {},
          "execution_count": 102
        }
      ]
    },
    {
      "cell_type": "code",
      "source": [
        "pd.DataFrame(my_dictionary)"
      ],
      "metadata": {
        "id": "8C9I7aLYFA2C",
        "colab": {
          "base_uri": "https://localhost:8080/",
          "height": 112
        },
        "outputId": "bdc1cea4-5f0d-4b8a-f047-4795319f22b9"
      },
      "execution_count": null,
      "outputs": [
        {
          "output_type": "execute_result",
          "data": {
            "text/plain": [
              "     1    2      3     4  empid  branch department\n",
              "0  One  Two  Three  Four    101  mumbai         HR\n",
              "1  One  Two  Three  Four    101    pune         HR"
            ],
            "text/html": [
              "\n",
              "  <div id=\"df-f07da53e-b9e1-46d0-9800-a1b0140d2115\" class=\"colab-df-container\">\n",
              "    <div>\n",
              "<style scoped>\n",
              "    .dataframe tbody tr th:only-of-type {\n",
              "        vertical-align: middle;\n",
              "    }\n",
              "\n",
              "    .dataframe tbody tr th {\n",
              "        vertical-align: top;\n",
              "    }\n",
              "\n",
              "    .dataframe thead th {\n",
              "        text-align: right;\n",
              "    }\n",
              "</style>\n",
              "<table border=\"1\" class=\"dataframe\">\n",
              "  <thead>\n",
              "    <tr style=\"text-align: right;\">\n",
              "      <th></th>\n",
              "      <th>1</th>\n",
              "      <th>2</th>\n",
              "      <th>3</th>\n",
              "      <th>4</th>\n",
              "      <th>empid</th>\n",
              "      <th>branch</th>\n",
              "      <th>department</th>\n",
              "    </tr>\n",
              "  </thead>\n",
              "  <tbody>\n",
              "    <tr>\n",
              "      <th>0</th>\n",
              "      <td>One</td>\n",
              "      <td>Two</td>\n",
              "      <td>Three</td>\n",
              "      <td>Four</td>\n",
              "      <td>101</td>\n",
              "      <td>mumbai</td>\n",
              "      <td>HR</td>\n",
              "    </tr>\n",
              "    <tr>\n",
              "      <th>1</th>\n",
              "      <td>One</td>\n",
              "      <td>Two</td>\n",
              "      <td>Three</td>\n",
              "      <td>Four</td>\n",
              "      <td>101</td>\n",
              "      <td>pune</td>\n",
              "      <td>HR</td>\n",
              "    </tr>\n",
              "  </tbody>\n",
              "</table>\n",
              "</div>\n",
              "    <div class=\"colab-df-buttons\">\n",
              "\n",
              "  <div class=\"colab-df-container\">\n",
              "    <button class=\"colab-df-convert\" onclick=\"convertToInteractive('df-f07da53e-b9e1-46d0-9800-a1b0140d2115')\"\n",
              "            title=\"Convert this dataframe to an interactive table.\"\n",
              "            style=\"display:none;\">\n",
              "\n",
              "  <svg xmlns=\"http://www.w3.org/2000/svg\" height=\"24px\" viewBox=\"0 -960 960 960\">\n",
              "    <path d=\"M120-120v-720h720v720H120Zm60-500h600v-160H180v160Zm220 220h160v-160H400v160Zm0 220h160v-160H400v160ZM180-400h160v-160H180v160Zm440 0h160v-160H620v160ZM180-180h160v-160H180v160Zm440 0h160v-160H620v160Z\"/>\n",
              "  </svg>\n",
              "    </button>\n",
              "\n",
              "  <style>\n",
              "    .colab-df-container {\n",
              "      display:flex;\n",
              "      gap: 12px;\n",
              "    }\n",
              "\n",
              "    .colab-df-convert {\n",
              "      background-color: #E8F0FE;\n",
              "      border: none;\n",
              "      border-radius: 50%;\n",
              "      cursor: pointer;\n",
              "      display: none;\n",
              "      fill: #1967D2;\n",
              "      height: 32px;\n",
              "      padding: 0 0 0 0;\n",
              "      width: 32px;\n",
              "    }\n",
              "\n",
              "    .colab-df-convert:hover {\n",
              "      background-color: #E2EBFA;\n",
              "      box-shadow: 0px 1px 2px rgba(60, 64, 67, 0.3), 0px 1px 3px 1px rgba(60, 64, 67, 0.15);\n",
              "      fill: #174EA6;\n",
              "    }\n",
              "\n",
              "    .colab-df-buttons div {\n",
              "      margin-bottom: 4px;\n",
              "    }\n",
              "\n",
              "    [theme=dark] .colab-df-convert {\n",
              "      background-color: #3B4455;\n",
              "      fill: #D2E3FC;\n",
              "    }\n",
              "\n",
              "    [theme=dark] .colab-df-convert:hover {\n",
              "      background-color: #434B5C;\n",
              "      box-shadow: 0px 1px 3px 1px rgba(0, 0, 0, 0.15);\n",
              "      filter: drop-shadow(0px 1px 2px rgba(0, 0, 0, 0.3));\n",
              "      fill: #FFFFFF;\n",
              "    }\n",
              "  </style>\n",
              "\n",
              "    <script>\n",
              "      const buttonEl =\n",
              "        document.querySelector('#df-f07da53e-b9e1-46d0-9800-a1b0140d2115 button.colab-df-convert');\n",
              "      buttonEl.style.display =\n",
              "        google.colab.kernel.accessAllowed ? 'block' : 'none';\n",
              "\n",
              "      async function convertToInteractive(key) {\n",
              "        const element = document.querySelector('#df-f07da53e-b9e1-46d0-9800-a1b0140d2115');\n",
              "        const dataTable =\n",
              "          await google.colab.kernel.invokeFunction('convertToInteractive',\n",
              "                                                    [key], {});\n",
              "        if (!dataTable) return;\n",
              "\n",
              "        const docLinkHtml = 'Like what you see? Visit the ' +\n",
              "          '<a target=\"_blank\" href=https://colab.research.google.com/notebooks/data_table.ipynb>data table notebook</a>'\n",
              "          + ' to learn more about interactive tables.';\n",
              "        element.innerHTML = '';\n",
              "        dataTable['output_type'] = 'display_data';\n",
              "        await google.colab.output.renderOutput(dataTable, element);\n",
              "        const docLink = document.createElement('div');\n",
              "        docLink.innerHTML = docLinkHtml;\n",
              "        element.appendChild(docLink);\n",
              "      }\n",
              "    </script>\n",
              "  </div>\n",
              "\n",
              "\n",
              "    <div id=\"df-f757f9d3-7422-4a10-bf2e-d5c5835d29e6\">\n",
              "      <button class=\"colab-df-quickchart\" onclick=\"quickchart('df-f757f9d3-7422-4a10-bf2e-d5c5835d29e6')\"\n",
              "                title=\"Suggest charts\"\n",
              "                style=\"display:none;\">\n",
              "\n",
              "<svg xmlns=\"http://www.w3.org/2000/svg\" height=\"24px\"viewBox=\"0 0 24 24\"\n",
              "     width=\"24px\">\n",
              "    <g>\n",
              "        <path d=\"M19 3H5c-1.1 0-2 .9-2 2v14c0 1.1.9 2 2 2h14c1.1 0 2-.9 2-2V5c0-1.1-.9-2-2-2zM9 17H7v-7h2v7zm4 0h-2V7h2v10zm4 0h-2v-4h2v4z\"/>\n",
              "    </g>\n",
              "</svg>\n",
              "      </button>\n",
              "\n",
              "<style>\n",
              "  .colab-df-quickchart {\n",
              "      --bg-color: #E8F0FE;\n",
              "      --fill-color: #1967D2;\n",
              "      --hover-bg-color: #E2EBFA;\n",
              "      --hover-fill-color: #174EA6;\n",
              "      --disabled-fill-color: #AAA;\n",
              "      --disabled-bg-color: #DDD;\n",
              "  }\n",
              "\n",
              "  [theme=dark] .colab-df-quickchart {\n",
              "      --bg-color: #3B4455;\n",
              "      --fill-color: #D2E3FC;\n",
              "      --hover-bg-color: #434B5C;\n",
              "      --hover-fill-color: #FFFFFF;\n",
              "      --disabled-bg-color: #3B4455;\n",
              "      --disabled-fill-color: #666;\n",
              "  }\n",
              "\n",
              "  .colab-df-quickchart {\n",
              "    background-color: var(--bg-color);\n",
              "    border: none;\n",
              "    border-radius: 50%;\n",
              "    cursor: pointer;\n",
              "    display: none;\n",
              "    fill: var(--fill-color);\n",
              "    height: 32px;\n",
              "    padding: 0;\n",
              "    width: 32px;\n",
              "  }\n",
              "\n",
              "  .colab-df-quickchart:hover {\n",
              "    background-color: var(--hover-bg-color);\n",
              "    box-shadow: 0 1px 2px rgba(60, 64, 67, 0.3), 0 1px 3px 1px rgba(60, 64, 67, 0.15);\n",
              "    fill: var(--button-hover-fill-color);\n",
              "  }\n",
              "\n",
              "  .colab-df-quickchart-complete:disabled,\n",
              "  .colab-df-quickchart-complete:disabled:hover {\n",
              "    background-color: var(--disabled-bg-color);\n",
              "    fill: var(--disabled-fill-color);\n",
              "    box-shadow: none;\n",
              "  }\n",
              "\n",
              "  .colab-df-spinner {\n",
              "    border: 2px solid var(--fill-color);\n",
              "    border-color: transparent;\n",
              "    border-bottom-color: var(--fill-color);\n",
              "    animation:\n",
              "      spin 1s steps(1) infinite;\n",
              "  }\n",
              "\n",
              "  @keyframes spin {\n",
              "    0% {\n",
              "      border-color: transparent;\n",
              "      border-bottom-color: var(--fill-color);\n",
              "      border-left-color: var(--fill-color);\n",
              "    }\n",
              "    20% {\n",
              "      border-color: transparent;\n",
              "      border-left-color: var(--fill-color);\n",
              "      border-top-color: var(--fill-color);\n",
              "    }\n",
              "    30% {\n",
              "      border-color: transparent;\n",
              "      border-left-color: var(--fill-color);\n",
              "      border-top-color: var(--fill-color);\n",
              "      border-right-color: var(--fill-color);\n",
              "    }\n",
              "    40% {\n",
              "      border-color: transparent;\n",
              "      border-right-color: var(--fill-color);\n",
              "      border-top-color: var(--fill-color);\n",
              "    }\n",
              "    60% {\n",
              "      border-color: transparent;\n",
              "      border-right-color: var(--fill-color);\n",
              "    }\n",
              "    80% {\n",
              "      border-color: transparent;\n",
              "      border-right-color: var(--fill-color);\n",
              "      border-bottom-color: var(--fill-color);\n",
              "    }\n",
              "    90% {\n",
              "      border-color: transparent;\n",
              "      border-bottom-color: var(--fill-color);\n",
              "    }\n",
              "  }\n",
              "</style>\n",
              "\n",
              "      <script>\n",
              "        async function quickchart(key) {\n",
              "          const quickchartButtonEl =\n",
              "            document.querySelector('#' + key + ' button');\n",
              "          quickchartButtonEl.disabled = true;  // To prevent multiple clicks.\n",
              "          quickchartButtonEl.classList.add('colab-df-spinner');\n",
              "          try {\n",
              "            const charts = await google.colab.kernel.invokeFunction(\n",
              "                'suggestCharts', [key], {});\n",
              "          } catch (error) {\n",
              "            console.error('Error during call to suggestCharts:', error);\n",
              "          }\n",
              "          quickchartButtonEl.classList.remove('colab-df-spinner');\n",
              "          quickchartButtonEl.classList.add('colab-df-quickchart-complete');\n",
              "        }\n",
              "        (() => {\n",
              "          let quickchartButtonEl =\n",
              "            document.querySelector('#df-f757f9d3-7422-4a10-bf2e-d5c5835d29e6 button');\n",
              "          quickchartButtonEl.style.display =\n",
              "            google.colab.kernel.accessAllowed ? 'block' : 'none';\n",
              "        })();\n",
              "      </script>\n",
              "    </div>\n",
              "\n",
              "    </div>\n",
              "  </div>\n"
            ],
            "application/vnd.google.colaboratory.intrinsic+json": {
              "type": "dataframe",
              "summary": "{\n  \"name\": \"pd\",\n  \"rows\": 2,\n  \"fields\": [\n    {\n      \"column\": 1,\n      \"properties\": {\n        \"dtype\": \"string\",\n        \"num_unique_values\": 1,\n        \"samples\": [\n          \"One\"\n        ],\n        \"semantic_type\": \"\",\n        \"description\": \"\"\n      }\n    },\n    {\n      \"column\": 2,\n      \"properties\": {\n        \"dtype\": \"string\",\n        \"num_unique_values\": 1,\n        \"samples\": [\n          \"Two\"\n        ],\n        \"semantic_type\": \"\",\n        \"description\": \"\"\n      }\n    },\n    {\n      \"column\": 3,\n      \"properties\": {\n        \"dtype\": \"string\",\n        \"num_unique_values\": 1,\n        \"samples\": [\n          \"Three\"\n        ],\n        \"semantic_type\": \"\",\n        \"description\": \"\"\n      }\n    },\n    {\n      \"column\": 4,\n      \"properties\": {\n        \"dtype\": \"string\",\n        \"num_unique_values\": 1,\n        \"samples\": [\n          \"Four\"\n        ],\n        \"semantic_type\": \"\",\n        \"description\": \"\"\n      }\n    },\n    {\n      \"column\": \"empid\",\n      \"properties\": {\n        \"dtype\": \"number\",\n        \"std\": 0,\n        \"min\": 101,\n        \"max\": 101,\n        \"num_unique_values\": 1,\n        \"samples\": [\n          101\n        ],\n        \"semantic_type\": \"\",\n        \"description\": \"\"\n      }\n    },\n    {\n      \"column\": \"branch\",\n      \"properties\": {\n        \"dtype\": \"string\",\n        \"num_unique_values\": 2,\n        \"samples\": [\n          \"pune\"\n        ],\n        \"semantic_type\": \"\",\n        \"description\": \"\"\n      }\n    },\n    {\n      \"column\": \"department\",\n      \"properties\": {\n        \"dtype\": \"string\",\n        \"num_unique_values\": 1,\n        \"samples\": [\n          \"HR\"\n        ],\n        \"semantic_type\": \"\",\n        \"description\": \"\"\n      }\n    }\n  ]\n}"
            }
          },
          "metadata": {},
          "execution_count": 101
        }
      ]
    }
  ]
}