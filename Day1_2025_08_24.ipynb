{
  "cells": [
    {
      "cell_type": "code",
      "execution_count": 1,
      "metadata": {
        "colab": {
          "base_uri": "https://localhost:8080/"
        },
        "id": "HYSXuIIkEwX0",
        "outputId": "e6f10432-9c08-4352-ba45-5d6086316551"
      },
      "outputs": [
        {
          "name": "stdout",
          "output_type": "stream",
          "text": [
            "Hello Word !!\n"
          ]
        }
      ],
      "source": [
        "print(\"Hello Word !!\")"
      ]
    },
    {
      "cell_type": "code",
      "execution_count": 2,
      "metadata": {
        "colab": {
          "base_uri": "https://localhost:8080/"
        },
        "id": "6Kpst81cFT5h",
        "outputId": "6a4a6da5-59c1-4801-95f1-abcc5c6ffd0d"
      },
      "outputs": [
        {
          "name": "stdout",
          "output_type": "stream",
          "text": [
            "120\n"
          ]
        }
      ],
      "source": [
        "print(85+35)"
      ]
    },
    {
      "cell_type": "code",
      "execution_count": 3,
      "metadata": {
        "colab": {
          "base_uri": "https://localhost:8080/"
        },
        "id": "56vAcY64Frje",
        "outputId": "972f890e-220d-4f72-e0c5-ba35a5f8c4e6"
      },
      "outputs": [
        {
          "name": "stdout",
          "output_type": "stream",
          "text": [
            "4\n"
          ]
        }
      ],
      "source": [
        "print(2*2)"
      ]
    },
    {
      "cell_type": "code",
      "execution_count": 4,
      "metadata": {
        "colab": {
          "base_uri": "https://localhost:8080/"
        },
        "id": "FXtUGo0-GiF8",
        "outputId": "17ae0a47-e9e1-4060-9208-2970cd719733"
      },
      "outputs": [
        {
          "name": "stdout",
          "output_type": "stream",
          "text": [
            "3125\n"
          ]
        }
      ],
      "source": [
        "print(5**5)"
      ]
    },
    {
      "cell_type": "code",
      "execution_count": 5,
      "metadata": {
        "colab": {
          "base_uri": "https://localhost:8080/"
        },
        "id": "CeLhqgwyJuHo",
        "outputId": "dee86fbc-c1be-4148-fc3a-3a9a8ba8c69b"
      },
      "outputs": [
        {
          "name": "stdout",
          "output_type": "stream",
          "text": [
            "First Python Program\n"
          ]
        }
      ],
      "source": [
        "print(\"First Python Program\")"
      ]
    },
    {
      "cell_type": "markdown",
      "metadata": {
        "id": "2KfNnR5zLaFv"
      },
      "source": [
        "Datatypes"
      ]
    },
    {
      "cell_type": "code",
      "execution_count": 6,
      "metadata": {
        "colab": {
          "base_uri": "https://localhost:8080/"
        },
        "id": "_vvrcAxBLdT0",
        "outputId": "0aa30808-9e94-424b-9173-ad775c601a7a"
      },
      "outputs": [
        {
          "name": "stdout",
          "output_type": "stream",
          "text": [
            "Sagar\n",
            "Rio\n",
            "18\n",
            "23.5\n"
          ]
        }
      ],
      "source": [
        "#String\n",
        "Name = \"Sagar\"\n",
        "print(Name)\n",
        "Name = \"Rio\"\n",
        "print(Name)\n",
        "\n",
        "#Integer\n",
        "Number1=18\n",
        "print(Number1)\n",
        "\n",
        "#Float\n",
        "temp=23.5\n",
        "print(temp)"
      ]
    },
    {
      "cell_type": "code",
      "execution_count": 7,
      "metadata": {
        "colab": {
          "base_uri": "https://localhost:8080/"
        },
        "id": "KJga3A8GJ4pK",
        "outputId": "3e44652e-c76e-4fc5-d456-07544512ba5f"
      },
      "outputs": [
        {
          "data": {
            "text/plain": [
              "str"
            ]
          },
          "execution_count": 7,
          "metadata": {},
          "output_type": "execute_result"
        }
      ],
      "source": [
        "type(\"27\")"
      ]
    },
    {
      "cell_type": "markdown",
      "metadata": {
        "id": "w7UP114bQIw3"
      },
      "source": [
        "Rules for variable Creation"
      ]
    },
    {
      "cell_type": "code",
      "execution_count": 8,
      "metadata": {
        "colab": {
          "base_uri": "https://localhost:8080/"
        },
        "id": "dsal4lFfPbl-",
        "outputId": "829c4cf1-06a9-42a5-df09-ae1290562b6c"
      },
      "outputs": [
        {
          "name": "stdout",
          "output_type": "stream",
          "text": [
            "Ashok\n",
            "52000\n",
            "Pune\n",
            "Priyanka\n",
            "Room Number\n",
            "Pooja\n",
            "Kiran\n"
          ]
        }
      ],
      "source": [
        "Employee=\"Ashok\"\n",
        "print(Employee)\n",
        "Salary_=52000\n",
        "print(Salary_)\n",
        "_City=\"Pune\"\n",
        "print(_City)\n",
        "First_Name=\"Priyanka\"\n",
        "print(First_Name)\n",
        "_12B =\"Room Number\" #Invalid\n",
        "B12=\"Room Number\" #Valid\n",
        "print(B12)\n",
        "Name=\"Pooja\"\n",
        "print(Name)\n",
        "name=\"Kiran\"\n",
        "print(name)"
      ]
    },
    {
      "cell_type": "code",
      "execution_count": null,
      "metadata": {
        "colab": {
          "base_uri": "https://localhost:8080/"
        },
        "id": "_nAgpziVQdb6",
        "outputId": "c973cacb-5967-4fcf-bd76-f1315b3349c2"
      },
      "outputs": [],
      "source": [
        "#Write a Python code for performing the power of two numbers\n",
        "print(\"First Python Program\")\n",
        "a= int(input(\"Enter Number\"))\n",
        "b= int(input(\"Enter Number\"))\n",
        "c=a**b\n",
        "print(\"Value in a is\",a)\n",
        "print(\"Value in b is\",b)\n",
        "print(\"Power of a^b =\",c)"
      ]
    },
    {
      "cell_type": "code",
      "execution_count": null,
      "metadata": {
        "colab": {
          "base_uri": "https://localhost:8080/"
        },
        "id": "vkHVOg2XUIp3",
        "outputId": "4877c289-63fb-4a22-fdbc-9049bcc59ce1"
      },
      "outputs": [],
      "source": [
        "num1=18\n",
        "num2=34\n",
        "sum=num1+num2\n",
        "print(sum)\n",
        "#18 + 34 = 52\n",
        "print(num1,\"+\",num2,\"=\",sum)"
      ]
    },
    {
      "cell_type": "code",
      "execution_count": null,
      "metadata": {
        "colab": {
          "base_uri": "https://localhost:8080/"
        },
        "id": "jNBq5en0WFIG",
        "outputId": "7cba57f3-8529-44bb-de8b-18d961e59f9a"
      },
      "outputs": [],
      "source": [
        "num1=18\n",
        "num2=34\n",
        "print(\"Additional=\",num1+num2)\n",
        "print(\"Substraction=\",num1-num2)\n",
        "print(\"Product=\",num1*num2)\n",
        "print(\"Quotient=\",num1/num2)\n",
        "print(\"Integer division\",num1//num2)\n",
        "print(\"Remainder\",num1%num2)\n",
        "print(\"Exponentional=\",num1**2)"
      ]
    },
    {
      "cell_type": "code",
      "execution_count": null,
      "metadata": {
        "colab": {
          "base_uri": "https://localhost:8080/"
        },
        "id": "dzUY63DYXIjI",
        "outputId": "bdebc0c8-de3f-404f-bef0-93a248bedcd4"
      },
      "outputs": [],
      "source": [
        "a=5\n",
        "b=2\n",
        "c=a/b #Division\n",
        "print(c)\n",
        "r=a%b #Module dicision Remainder=1\n",
        "intd=a//b #Integer division\n",
        "print(intd) #2"
      ]
    },
    {
      "cell_type": "code",
      "execution_count": null,
      "metadata": {
        "colab": {
          "base_uri": "https://localhost:8080/"
        },
        "id": "nFHZNqyXXa8Q",
        "outputId": "e11c6962-299c-49ed-c206-8161e5ac8bf6"
      },
      "outputs": [],
      "source": [
        "#Take Employee details form user name,degignation,id,salary\n",
        "name=input(\"Enter your Name\")\n",
        "print(\"Name=\",name)\n",
        "designation=input(\"Enter Designation\")\n",
        "print(\"Designation=\", designation)\n",
        "Id=input(\"Enter Emp ID\")\n",
        "print(\"Employee Id=\",Id)"
      ]
    }
  ],
  "metadata": {
    "colab": {
      "provenance": []
    },
    "kernelspec": {
      "display_name": "base",
      "language": "python",
      "name": "python3"
    },
    "language_info": {
      "codemirror_mode": {
        "name": "ipython",
        "version": 3
      },
      "file_extension": ".py",
      "mimetype": "text/x-python",
      "name": "python",
      "nbconvert_exporter": "python",
      "pygments_lexer": "ipython3",
      "version": "3.12.7"
    }
  },
  "nbformat": 4,
  "nbformat_minor": 0
}
